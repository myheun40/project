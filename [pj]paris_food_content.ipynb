{
 "cells": [
  {
   "cell_type": "code",
   "execution_count": 6,
   "id": "e28dfc29-c996-4136-941c-2bc24b87d567",
   "metadata": {},
   "outputs": [],
   "source": [
    "from selenium.webdriver.chrome.service import Service\n",
    "from webdriver_manager.chrome import ChromeDriverManager\n",
    "from selenium.webdriver.chrome.options import Options\n",
    "\n",
    "from selenium import webdriver as wb\n",
    "from selenium.webdriver.common.keys import Keys \n",
    "from selenium.webdriver.common.by import By\n",
    "import os\n",
    "\n",
    "import pandas as pd\n",
    "import time\n",
    "from tqdm import tqdm as tq\n",
    "from bs4 import BeautifulSoup as bs\n",
    "\n",
    "options = Options()\n",
    "options.add_argument(\"disable-blink-features=AutomationControlled\")  # 자동화 탐지 방지\n",
    "options.add_experimental_option(\"excludeSwitches\", [\"enable-automation\"])  # 자동화 표시 제거\n",
    "options.add_experimental_option('useAutomationExtension', False)  # 자동화 확장 기능 사용 안 함\n",
    "\n",
    "driver_path = ChromeDriverManager().install()\n",
    "correct_driver_path = os.path.join(os.path.dirname(driver_path), \"chromedriver.exe\")\n",
    "driver = wb.Chrome(service=Service(executable_path=correct_driver_path), options=options)"
   ]
  },
  {
   "cell_type": "code",
   "execution_count": 10,
   "id": "6c07dd44-87ee-480a-a0ba-6d6e3fa9552e",
   "metadata": {},
   "outputs": [
    {
     "ename": "WebDriverException",
     "evalue": "Message: unknown error: failed to change window state to 'normal', current state is 'maximized'\n  (Session info: chrome=127.0.6533.120)\nStacktrace:\n\tGetHandleVerifier [0x00F78923+23283]\n\t(No symbol) [0x00F3E934]\n\t(No symbol) [0x00E70733]\n\t(No symbol) [0x00E50A56]\n\t(No symbol) [0x00E4E73F]\n\t(No symbol) [0x00E4DBE8]\n\t(No symbol) [0x00EFF3B8]\n\t(No symbol) [0x00ED441C]\n\t(No symbol) [0x00EECB8D]\n\t(No symbol) [0x00ED41B6]\n\t(No symbol) [0x00EA8017]\n\t(No symbol) [0x00EA890D]\n\tGetHandleVerifier [0x0106A5F3+1013699]\n\tGetHandleVerifier [0x01073E4C+1052700]\n\tGetHandleVerifier [0x0106D4B4+1025668]\n\tGetHandleVerifier [0x00F9EA2B+179195]\n\t(No symbol) [0x00F46833]\n\t(No symbol) [0x00F43198]\n\t(No symbol) [0x00F43337]\n\t(No symbol) [0x00F3B4BE]\n\tBaseThreadInitThunk [0x761500C9+25]\n\tRtlGetAppContainerNamedObjectPath [0x77217B4E+286]\n\tRtlGetAppContainerNamedObjectPath [0x77217B1E+238]\n",
     "output_type": "error",
     "traceback": [
      "\u001b[1;31m---------------------------------------------------------------------------\u001b[0m",
      "\u001b[1;31mWebDriverException\u001b[0m                        Traceback (most recent call last)",
      "Cell \u001b[1;32mIn[10], line 5\u001b[0m\n\u001b[0;32m      2\u001b[0m url \u001b[38;5;241m=\u001b[39m \u001b[38;5;124mf\u001b[39m\u001b[38;5;124m\"\u001b[39m\u001b[38;5;124mhttps://www.paris.co.kr/products/?cat1=\u001b[39m\u001b[38;5;132;01m{\u001b[39;00mmenu\u001b[38;5;132;01m}\u001b[39;00m\u001b[38;5;124m\"\u001b[39m\n\u001b[0;32m      4\u001b[0m driver\u001b[38;5;241m.\u001b[39mget(url)\n\u001b[1;32m----> 5\u001b[0m driver\u001b[38;5;241m.\u001b[39mmaximize_window()\n",
      "File \u001b[1;32m~\\anaconda3\\Lib\\site-packages\\selenium\\webdriver\\remote\\webdriver.py:506\u001b[0m, in \u001b[0;36mWebDriver.maximize_window\u001b[1;34m(self)\u001b[0m\n\u001b[0;32m    504\u001b[0m \u001b[38;5;250m\u001b[39m\u001b[38;5;124;03m\"\"\"Maximizes the current window that webdriver is using.\"\"\"\u001b[39;00m\n\u001b[0;32m    505\u001b[0m command \u001b[38;5;241m=\u001b[39m Command\u001b[38;5;241m.\u001b[39mW3C_MAXIMIZE_WINDOW\n\u001b[1;32m--> 506\u001b[0m \u001b[38;5;28mself\u001b[39m\u001b[38;5;241m.\u001b[39mexecute(command, \u001b[38;5;28;01mNone\u001b[39;00m)\n",
      "File \u001b[1;32m~\\anaconda3\\Lib\\site-packages\\selenium\\webdriver\\remote\\webdriver.py:354\u001b[0m, in \u001b[0;36mWebDriver.execute\u001b[1;34m(self, driver_command, params)\u001b[0m\n\u001b[0;32m    352\u001b[0m response \u001b[38;5;241m=\u001b[39m \u001b[38;5;28mself\u001b[39m\u001b[38;5;241m.\u001b[39mcommand_executor\u001b[38;5;241m.\u001b[39mexecute(driver_command, params)\n\u001b[0;32m    353\u001b[0m \u001b[38;5;28;01mif\u001b[39;00m response:\n\u001b[1;32m--> 354\u001b[0m     \u001b[38;5;28mself\u001b[39m\u001b[38;5;241m.\u001b[39merror_handler\u001b[38;5;241m.\u001b[39mcheck_response(response)\n\u001b[0;32m    355\u001b[0m     response[\u001b[38;5;124m\"\u001b[39m\u001b[38;5;124mvalue\u001b[39m\u001b[38;5;124m\"\u001b[39m] \u001b[38;5;241m=\u001b[39m \u001b[38;5;28mself\u001b[39m\u001b[38;5;241m.\u001b[39m_unwrap_value(response\u001b[38;5;241m.\u001b[39mget(\u001b[38;5;124m\"\u001b[39m\u001b[38;5;124mvalue\u001b[39m\u001b[38;5;124m\"\u001b[39m, \u001b[38;5;28;01mNone\u001b[39;00m))\n\u001b[0;32m    356\u001b[0m     \u001b[38;5;28;01mreturn\u001b[39;00m response\n",
      "File \u001b[1;32m~\\anaconda3\\Lib\\site-packages\\selenium\\webdriver\\remote\\errorhandler.py:229\u001b[0m, in \u001b[0;36mErrorHandler.check_response\u001b[1;34m(self, response)\u001b[0m\n\u001b[0;32m    227\u001b[0m         alert_text \u001b[38;5;241m=\u001b[39m value[\u001b[38;5;124m\"\u001b[39m\u001b[38;5;124malert\u001b[39m\u001b[38;5;124m\"\u001b[39m]\u001b[38;5;241m.\u001b[39mget(\u001b[38;5;124m\"\u001b[39m\u001b[38;5;124mtext\u001b[39m\u001b[38;5;124m\"\u001b[39m)\n\u001b[0;32m    228\u001b[0m     \u001b[38;5;28;01mraise\u001b[39;00m exception_class(message, screen, stacktrace, alert_text)  \u001b[38;5;66;03m# type: ignore[call-arg]  # mypy is not smart enough here\u001b[39;00m\n\u001b[1;32m--> 229\u001b[0m \u001b[38;5;28;01mraise\u001b[39;00m exception_class(message, screen, stacktrace)\n",
      "\u001b[1;31mWebDriverException\u001b[0m: Message: unknown error: failed to change window state to 'normal', current state is 'maximized'\n  (Session info: chrome=127.0.6533.120)\nStacktrace:\n\tGetHandleVerifier [0x00F78923+23283]\n\t(No symbol) [0x00F3E934]\n\t(No symbol) [0x00E70733]\n\t(No symbol) [0x00E50A56]\n\t(No symbol) [0x00E4E73F]\n\t(No symbol) [0x00E4DBE8]\n\t(No symbol) [0x00EFF3B8]\n\t(No symbol) [0x00ED441C]\n\t(No symbol) [0x00EECB8D]\n\t(No symbol) [0x00ED41B6]\n\t(No symbol) [0x00EA8017]\n\t(No symbol) [0x00EA890D]\n\tGetHandleVerifier [0x0106A5F3+1013699]\n\tGetHandleVerifier [0x01073E4C+1052700]\n\tGetHandleVerifier [0x0106D4B4+1025668]\n\tGetHandleVerifier [0x00F9EA2B+179195]\n\t(No symbol) [0x00F46833]\n\t(No symbol) [0x00F43198]\n\t(No symbol) [0x00F43337]\n\t(No symbol) [0x00F3B4BE]\n\tBaseThreadInitThunk [0x761500C9+25]\n\tRtlGetAppContainerNamedObjectPath [0x77217B4E+286]\n\tRtlGetAppContainerNamedObjectPath [0x77217B1E+238]\n"
     ]
    }
   ],
   "source": [
    "menu='브레드'\n",
    "url = f\"https://www.paris.co.kr/products/?cat1={menu}\"\n",
    "\n",
    "driver.get(url)\n",
    "driver.maximize_window()"
   ]
  },
  {
   "cell_type": "code",
   "execution_count": 12,
   "id": "0d9e800b-11c1-4b01-b8e0-5908f0f0ce7b",
   "metadata": {},
   "outputs": [
    {
     "name": "stdout",
     "output_type": "stream",
     "text": [
      "더보기 클릭\n",
      "더보기 클릭\n",
      "더보기 클릭\n",
      "더보기 클릭\n",
      "더보기 클릭\n",
      "더보기 클릭\n",
      "더보기 클릭\n",
      "더보기 클릭\n",
      "더보기 클릭\n",
      "더보기 클릭\n",
      "더보기 클릭\n",
      "더보기 클릭 완료\n"
     ]
    },
    {
     "ename": "TypeError",
     "evalue": "'WebElement' object is not iterable",
     "output_type": "error",
     "traceback": [
      "\u001b[1;31m---------------------------------------------------------------------------\u001b[0m",
      "\u001b[1;31mTypeError\u001b[0m                                 Traceback (most recent call last)",
      "Cell \u001b[1;32mIn[12], line 12\u001b[0m\n\u001b[0;32m      9\u001b[0m         \u001b[38;5;28;01mbreak\u001b[39;00m\n\u001b[0;32m     11\u001b[0m menu_link \u001b[38;5;241m=\u001b[39m driver\u001b[38;5;241m.\u001b[39mfind_element(By\u001b[38;5;241m.\u001b[39mCLASS_NAME, \u001b[38;5;124m\"\u001b[39m\u001b[38;5;124mproduct-list-item\u001b[39m\u001b[38;5;124m\"\u001b[39m)\n\u001b[1;32m---> 12\u001b[0m \u001b[38;5;28;01mfor\u001b[39;00m link \u001b[38;5;129;01min\u001b[39;00m menu_link:\n\u001b[0;32m     13\u001b[0m     link[\u001b[38;5;124m'\u001b[39m\u001b[38;5;124mhref\u001b[39m\u001b[38;5;124m'\u001b[39m]\u001b[38;5;241m.\u001b[39mclick()\n\u001b[0;32m     14\u001b[0m     des \u001b[38;5;241m=\u001b[39m driver\u001b[38;5;241m.\u001b[39mfind_element(By\u001b[38;5;241m.\u001b[39mCSS_SELECTOR,\u001b[38;5;124m\"\u001b[39m\u001b[38;5;124mdiv.product-info-group-description > p\u001b[39m\u001b[38;5;124m\"\u001b[39m)\n",
      "\u001b[1;31mTypeError\u001b[0m: 'WebElement' object is not iterable"
     ]
    }
   ],
   "source": [
    "while True:\n",
    "    try: \n",
    "        btn = driver.find_element(By.CLASS_NAME,\"btn-show-more\")\n",
    "        btn.click()\n",
    "        print(\"더보기 클릭\")\n",
    "        time.sleep(1)\n",
    "    except:\n",
    "        print(\"더보기 클릭 완료\")\n",
    "        break\n",
    "\n",
    "name_list=[]\n",
    "calory_list=[]\n",
    "\n",
    "menu_link = driver.find_element(By.CLASS_NAME, \"product-list-item\")\n",
    "\n",
    "for i in range(len(menu_link)):\n",
    "    menu_link = driver.find_elements(By.CLASS_NAME, \"product-list-item\")\n",
    "    menu_link[i].click()\n",
    "\n",
    "    name = driver.find_element(By.CLASS_NAME,\"product-name\")\n",
    "    name_list.append(name)\n",
    "    \n",
    "    calory = driver.find_element(By.CSS_SELECTOR,\"div.product-info-group-description > p\").text.split('칼로리: ')[1]\n",
    "    calory_list.append(calory)\n",
    "\n",
    "    driver.back()"
   ]
  },
  {
   "cell_type": "code",
   "execution_count": 16,
   "id": "9119cd1c-d6c7-46bd-b65f-2a98f15d77fe",
   "metadata": {},
   "outputs": [
    {
     "data": {
      "text/plain": [
       "'203kcal'"
      ]
     },
     "execution_count": 16,
     "metadata": {},
     "output_type": "execute_result"
    }
   ],
   "source": [
    "dict = {\n",
    "    \"제품명\" : name_list,\n",
    "    \"칼로리\": calory_list\n",
    "}\n",
    "\n",
    "paris = pd.DataFrame(dict)\n",
    "gmarket.to_csv(\"paris_calory.csv\", encoding=\"UTF-8\")\n",
    "\n",
    "driver.quit()"
   ]
  },
  {
   "cell_type": "code",
   "execution_count": null,
   "id": "3aba922c-1da8-419b-b3e2-f0be3d30ddac",
   "metadata": {},
   "outputs": [],
   "source": []
  },
  {
   "cell_type": "code",
   "execution_count": null,
   "id": "a1484797-a74a-47ee-819c-f1fe90ff6042",
   "metadata": {},
   "outputs": [],
   "source": []
  }
 ],
 "metadata": {
  "kernelspec": {
   "display_name": "Python 3 (ipykernel)",
   "language": "python",
   "name": "python3"
  },
  "language_info": {
   "codemirror_mode": {
    "name": "ipython",
    "version": 3
   },
   "file_extension": ".py",
   "mimetype": "text/x-python",
   "name": "python",
   "nbconvert_exporter": "python",
   "pygments_lexer": "ipython3",
   "version": "3.11.7"
  }
 },
 "nbformat": 4,
 "nbformat_minor": 5
}

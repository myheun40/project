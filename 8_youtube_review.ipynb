{
 "cells": [
  {
   "cell_type": "markdown",
   "id": "680ea267-c587-4968-8052-89283cbfe1c1",
   "metadata": {},
   "source": [
    "# YOUTUBE 리뷰 수집"
   ]
  },
  {
   "cell_type": "code",
   "execution_count": 4,
   "id": "77e68b90-074f-4c10-b7ab-36c7b947b5a2",
   "metadata": {},
   "outputs": [],
   "source": [
    "from selenium.webdriver.chrome.service import Service\n",
    "from webdriver_manager.chrome import ChromeDriverManager\n",
    "from selenium.webdriver.chrome.options import Options\n",
    "\n",
    "from selenium import webdriver as wb\n",
    "from selenium.webdriver.common.keys import Keys\n",
    "from selenium.webdriver.common.by import By\n",
    "import os\n",
    "\n",
    "import pandas as pd\n",
    "import time\n",
    "from tqdm import tqdm as tq\n",
    "from bs4 import BeautifulSoup as bs\n",
    "\n",
    "options = Options()\n",
    "options.add_argument(\"disable-blink-features=AutomationControlled\")  # 자동화 탐지 방지\n",
    "options.add_experimental_option(\"excludeSwitches\", [\"enable-automation\"])  # 자동화 표시 제거\n",
    "options.add_experimental_option('useAutomationExtension', False)  # 자동화 확장 기능 사용 안 함"
   ]
  },
  {
   "cell_type": "code",
   "execution_count": 22,
   "id": "1d2d0d15-c433-4418-8cac-eb73877b3410",
   "metadata": {},
   "outputs": [
    {
     "name": "stdout",
     "output_type": "stream",
     "text": [
      "리뷰 100건으로 종료\n"
     ]
    }
   ],
   "source": [
    "def review_collection():\n",
    "    # youtube 댓글 수집 기능\n",
    "    driver_path = ChromeDriverManager().install()\n",
    "    correct_driver_path = os.path.join(os.path.dirname(driver_path), \"chromedriver.exe\")\n",
    "    driver = wb.Chrome(service=Service(executable_path=correct_driver_path), options=options)\n",
    "\n",
    "    url=\"https://www.youtube.com/watch?v=91TNlSs9S_0\"\n",
    "    driver.get(url)\n",
    "    driver.maximize_window()\n",
    "    time.sleep(2)\n",
    "\n",
    "    # 스크롤을 내려야, 리뷰 로딩해서 출력\n",
    "    body = driver.find_element(By.TAG_NAME, \"body\")\n",
    "    body.send_keys(Keys.END)\n",
    "    time.sleep(2)\n",
    "\n",
    "    # 기존의 리뷰 개수!\n",
    "    soup = bs(driver.page_source,\"lxml\")\n",
    "    review_cnt = soup.select(\"yt-attributed-string#content-text > span\")\n",
    "\n",
    "    # for review in review_cnt:\n",
    "    #     print(review.text)\n",
    "    old_cnt = len(review_cnt)\n",
    "    while True:  # 스크롤 하강\n",
    "        body = driver.find_element(By.TAG_NAME, \"body\")\n",
    "        body.send_keys(Keys.END)\n",
    "        time.sleep(2)\n",
    "        soup = bs(driver.page_source,\"lxml\")\n",
    "        review_cnt = soup.select(\"yt-attributed-string#content-text > span\")\n",
    "        \n",
    "        if len(review_cnt)>=100:\n",
    "            print(\"리뷰 100건으로 종료\")\n",
    "            break\n",
    "        new_cnt = len(review_cnt)\n",
    "        if old_cnt==new_cnt:\n",
    "            break\n",
    "        old_cnt = new_cnt\n",
    "\n",
    "    # 작성자 수집\n",
    "    # 리뷰 수집\n",
    "    writer = driver.find_elements(By.CSS_SELECTOR, \"a#author-text > span\")\n",
    "    review = driver.find_elements(By.CSS_SELECTOR, \"yt-attributed-string#content-text > span\")\n",
    "\n",
    "    # 채널주인 리뷰 삭제 (분석에 의미 없음)\n",
    "    del writer[0]\n",
    "    del review[0]\n",
    "\n",
    "    writer_list=[w.text for w in writer]\n",
    "    review_list=[r.text for r in review]\n",
    "\n",
    "    dict={\n",
    "        \"작성자ID\":writer_list,\n",
    "        \"리뷰\":review_list\n",
    "    }\n",
    "\n",
    "    youtube = pd.DataFrame(dict)\n",
    "    youtube.to_csv(\"youtube_review.csv\", encoding=\"UTF-8\")\n",
    "    \n",
    "review_collection()"
   ]
  },
  {
   "cell_type": "code",
   "execution_count": null,
   "id": "e60cb892-43d6-4414-b9dc-85c62605552e",
   "metadata": {},
   "outputs": [],
   "source": []
  },
  {
   "cell_type": "code",
   "execution_count": null,
   "id": "0c77fe62-594e-402e-bc76-68d3678e900c",
   "metadata": {},
   "outputs": [],
   "source": []
  },
  {
   "cell_type": "code",
   "execution_count": null,
   "id": "29203cfb-6676-4d3a-8ae5-29caf70d7192",
   "metadata": {},
   "outputs": [],
   "source": []
  }
 ],
 "metadata": {
  "kernelspec": {
   "display_name": "Python 3 (ipykernel)",
   "language": "python",
   "name": "python3"
  },
  "language_info": {
   "codemirror_mode": {
    "name": "ipython",
    "version": 3
   },
   "file_extension": ".py",
   "mimetype": "text/x-python",
   "name": "python",
   "nbconvert_exporter": "python",
   "pygments_lexer": "ipython3",
   "version": "3.11.7"
  }
 },
 "nbformat": 4,
 "nbformat_minor": 5
}

{
 "cells": [
  {
   "cell_type": "code",
   "execution_count": 1,
   "id": "28d653c4-8f20-42ba-9024-bdcf27b5e883",
   "metadata": {},
   "outputs": [],
   "source": [
    "from selenium.webdriver.chrome.service import Service\n",
    "from webdriver_manager.chrome import ChromeDriverManager\n",
    "from selenium.webdriver.chrome.options import Options\n",
    "\n",
    "from selenium import webdriver as wb\n",
    "from selenium.webdriver.common.keys import Keys\n",
    "from selenium.webdriver.common.by import By\n",
    "import os\n",
    "\n",
    "import pandas as pd\n",
    "import time\n",
    "from tqdm import tqdm as tq\n",
    "from bs4 import BeautifulSoup as bs\n",
    "\n",
    "options = Options()\n",
    "options.add_argument(\"disable-blink-features=AutomationControlled\")  # 자동화 탐지 방지\n",
    "options.add_experimental_option(\"excludeSwitches\", [\"enable-automation\"])  # 자동화 표시 제거\n",
    "options.add_experimental_option('useAutomationExtension', False)  # 자동화 확장 기능 사용 안 함\n",
    "\n",
    "driver_path = ChromeDriverManager().install()\n",
    "correct_driver_path = os.path.join(os.path.dirname(driver_path), \"chromedriver.exe\")\n",
    "driver = wb.Chrome(service=Service(executable_path=correct_driver_path), options=options)"
   ]
  },
  {
   "cell_type": "code",
   "execution_count": 3,
   "id": "fcae37c0-dff2-46ff-b736-d404c35979e4",
   "metadata": {},
   "outputs": [],
   "source": [
    "driver.get(\"https://www.hsd.co.kr/menu/menu_list\")"
   ]
  },
  {
   "cell_type": "code",
   "execution_count": 11,
   "id": "38744dd3-fd7d-44b7-a202-a2b7a354a994",
   "metadata": {},
   "outputs": [],
   "source": [
    "# 더보기 버튼 클릭\n",
    "btn = driver.find_element(By.CLASS_NAME,\"c_05\")\n",
    "btn.click()"
   ]
  },
  {
   "cell_type": "code",
   "execution_count": 19,
   "id": "086bc0e1-4882-46fa-bed0-96bf4d502e16",
   "metadata": {},
   "outputs": [
    {
     "name": "stdout",
     "output_type": "stream",
     "text": [
      "더보기 클릭\n",
      "더보기 클릭\n",
      "더보기 클릭\n",
      "더보기 클릭\n",
      "더보기 클릭 완료\n"
     ]
    }
   ],
   "source": [
    "while True:\n",
    "    try:\n",
    "        btn = driver.find_element(By.CLASS_NAME, \"c_05\")\n",
    "        btn.click()\n",
    "        print(\"더보기 클릭\")\n",
    "        time.sleep(1)\n",
    "    except:\n",
    "        print(\"더보기 클릭 완료\")\n",
    "        break"
   ]
  },
  {
   "cell_type": "markdown",
   "id": "075755f9-f9ef-40eb-9f77-eca341d5bb99",
   "metadata": {},
   "source": [
    "##### 예외처리\n",
    "- DB, 파일 관련된 건 무조건 예외 처리 해야함\n",
    "- finally 반드시 써서 자원 반납해야 함"
   ]
  },
  {
   "cell_type": "markdown",
   "id": "42e15c2e-0c9c-4c02-85ca-70baa0cc14db",
   "metadata": {},
   "source": [
    "### 프로젝트 : 한솥도시락 메뉴 수집(메뉴이름, 가격)"
   ]
  },
  {
   "cell_type": "code",
   "execution_count": 28,
   "id": "b65beddf-d412-4c64-a702-a8b3243af07d",
   "metadata": {},
   "outputs": [
    {
     "name": "stdout",
     "output_type": "stream",
     "text": [
      "더보기 클릭\n",
      "더보기 클릭\n",
      "더보기 클릭\n",
      "더보기 클릭\n",
      "더보기 클릭 완료\n"
     ]
    }
   ],
   "source": [
    "#1. 웹 브라우저 On, 한솥도시락 전체메뉴 접속\n",
    "driver = wb.Chrome(service=Service(executable_path=correct_driver_path), options=options)\n",
    "driver.get(\"https://www.hsd.co.kr/menu/menu_list\")\n",
    "\n",
    "#2. [더보기] 클릭해서 전체 메뉴 출력\n",
    "driver.maximize_window()\n",
    "while True:\n",
    "    try:\n",
    "        btn = driver.find_element(By.CLASS_NAME, \"c_05\")\n",
    "        btn.click()\n",
    "        print(\"더보기 클릭\")\n",
    "        time.sleep(1)\n",
    "    except:\n",
    "        print(\"더보기 클릭 완료\")\n",
    "        break\n",
    "\n",
    "#3. 메뉴이름, 가격 수집\n",
    "menus=driver.find_elements(By.CSS_SELECTOR,\"div.item-text > h4\")\n",
    "prices=driver.find_elements(By.CSS_SELECTOR,\"div.item-text > div > strong\")\n",
    "\n",
    "#4. 텍스트 추출\n",
    "menu_list=[menu.text for menu in menus]\n",
    "price_list=[price.text for price in prices]\n",
    "\n",
    "#5. DataFrame 제작, csv 저장\n",
    "dict={\n",
    "    \"메뉴\":menu_list,\n",
    "    \"가격\":price_list\n",
    "}\n",
    "hansot = pd.DataFrame(dict)\n",
    "hansot.to_csv(\"한솥메뉴.csv\", encoding=\"utf-8\")\n",
    "\n",
    "driver.quit()"
   ]
  },
  {
   "cell_type": "code",
   "execution_count": null,
   "id": "fda7b1ed-7565-4a53-9664-dcb6ca643c99",
   "metadata": {},
   "outputs": [],
   "source": []
  },
  {
   "cell_type": "code",
   "execution_count": null,
   "id": "b9491bec-de50-454d-8a38-b98d8c057bbc",
   "metadata": {},
   "outputs": [],
   "source": []
  },
  {
   "cell_type": "code",
   "execution_count": null,
   "id": "85d9a9a5-b847-49c3-86b3-b790ebd43b0b",
   "metadata": {},
   "outputs": [],
   "source": []
  }
 ],
 "metadata": {
  "kernelspec": {
   "display_name": "Python 3 (ipykernel)",
   "language": "python",
   "name": "python3"
  },
  "language_info": {
   "codemirror_mode": {
    "name": "ipython",
    "version": 3
   },
   "file_extension": ".py",
   "mimetype": "text/x-python",
   "name": "python",
   "nbconvert_exporter": "python",
   "pygments_lexer": "ipython3",
   "version": "3.11.7"
  }
 },
 "nbformat": 4,
 "nbformat_minor": 5
}

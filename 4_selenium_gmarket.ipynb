{
 "cells": [
  {
   "cell_type": "code",
   "execution_count": 16,
   "id": "7843ac77-4315-493d-a743-69d5ad7f10b9",
   "metadata": {},
   "outputs": [],
   "source": [
    "from selenium.webdriver.chrome.service import Service\n",
    "from webdriver_manager.chrome import ChromeDriverManager\n",
    "from selenium.webdriver.chrome.options import Options\n",
    "\n",
    "from selenium import webdriver as wb\n",
    "from selenium.webdriver.common.keys import Keys\n",
    "from selenium.webdriver.common.by import By\n",
    "import os\n",
    "\n",
    "import pandas as pd"
   ]
  },
  {
   "cell_type": "code",
   "execution_count": 18,
   "id": "ee66d542-111f-4a72-8876-7ae20a7e1a95",
   "metadata": {},
   "outputs": [],
   "source": [
    "# 브라우저 열기!\n",
    "options = Options()\n",
    "options.add_argument(\"disable-blink-features=AutomationControlled\")  # 자동화 탐지 방지\n",
    "options.add_experimental_option(\"excludeSwitches\", [\"enable-automation\"])  # 자동화 표시 제거\n",
    "options.add_experimental_option('useAutomationExtension', False)  # 자동화 확장 기능 사용 안 함"
   ]
  },
  {
   "cell_type": "code",
   "execution_count": 20,
   "id": "fa9f6f04-ab36-4cc1-8222-d9c02c134bc7",
   "metadata": {},
   "outputs": [],
   "source": [
    "driver_path = ChromeDriverManager().install()\n",
    "correct_driver_path = os.path.join(os.path.dirname(driver_path), \"chromedriver.exe\")\n",
    "driver = wb.Chrome(service=Service(executable_path=correct_driver_path), options=options)"
   ]
  },
  {
   "cell_type": "code",
   "execution_count": 22,
   "id": "17f23120-3dd3-466b-89f6-0a09ebbc6ce4",
   "metadata": {},
   "outputs": [],
   "source": [
    "# URL 접속\n",
    "driver.get(\"https://www.gmarket.co.kr/n/best\")"
   ]
  },
  {
   "cell_type": "code",
   "execution_count": 24,
   "id": "b92c577a-7514-4d25-88c7-67961e560a36",
   "metadata": {},
   "outputs": [],
   "source": [
    "a_href = driver.find_elements(By.CSS_SELECTOR, \"ul.list__best > li > a\")"
   ]
  },
  {
   "cell_type": "code",
   "execution_count": 28,
   "id": "1196bceb-2dfd-4999-9ece-4565e4484015",
   "metadata": {},
   "outputs": [],
   "source": [
    "a_href[0].click()"
   ]
  },
  {
   "cell_type": "code",
   "execution_count": 32,
   "id": "a6c3a1c7-676c-451b-91ae-ed0de40fd569",
   "metadata": {},
   "outputs": [
    {
     "name": "stdout",
     "output_type": "stream",
     "text": [
      "전복\n"
     ]
    }
   ],
   "source": [
    "# 카테고리 수집\n",
    "category = driver.find_element(By.CSS_SELECTOR, \"ul > li.on > a\")\n",
    "print(category.text)"
   ]
  },
  {
   "cell_type": "code",
   "execution_count": 34,
   "id": "28b4e2dd-a0ab-4097-92b2-ac305365da32",
   "metadata": {},
   "outputs": [
    {
     "name": "stdout",
     "output_type": "stream",
     "text": [
      "바다마을 특대활전복 9-11미 1kg (아이스박스 포장) 26,900원\n"
     ]
    }
   ],
   "source": [
    "# 제목\n",
    "title = driver.find_element(By.CLASS_NAME, \"itemtit\").text\n",
    "# 가격\n",
    "price = driver.find_element(By.CLASS_NAME, \"price_real\").text\n",
    "\n",
    "print(title, price)"
   ]
  },
  {
   "cell_type": "code",
   "execution_count": null,
   "id": "f2cf6f14-25bc-4ae4-995e-0496aea2a678",
   "metadata": {},
   "outputs": [],
   "source": [
    "# category, title, price\n",
    "# Best product -> 200"
   ]
  },
  {
   "cell_type": "markdown",
   "id": "1f6b1146-403e-420f-acd4-85e0ab4593da",
   "metadata": {},
   "source": [
    "### [실습] PROJECT: G-Market Best 상품 수집기\n",
    "- Best 상품 200건에 대해서 [카테고리, 상품명, 상품가격] 수집"
   ]
  },
  {
   "cell_type": "code",
   "execution_count": 44,
   "id": "5ea07e3c-e1d8-484e-ad2a-62faed51c490",
   "metadata": {
    "scrolled": true
   },
   "outputs": [
    {
     "ename": "NoSuchElementException",
     "evalue": "Message: no such element: Unable to locate element: {\"method\":\"css selector\",\"selector\":\"ul > li.on > a\"}\n  (Session info: chrome=127.0.6533.100); For documentation on this error, please visit: https://www.selenium.dev/documentation/webdriver/troubleshooting/errors#no-such-element-exception\nStacktrace:\n\tGetHandleVerifier [0x003D8923+23283]\n\t(No symbol) [0x0039E934]\n\t(No symbol) [0x002D0733]\n\t(No symbol) [0x0031326F]\n\t(No symbol) [0x003134AB]\n\t(No symbol) [0x0034EE42]\n\t(No symbol) [0x00334464]\n\t(No symbol) [0x0034CB8D]\n\t(No symbol) [0x003341B6]\n\t(No symbol) [0x00308017]\n\t(No symbol) [0x0030890D]\n\tGetHandleVerifier [0x004CA5E3+1013683]\n\tGetHandleVerifier [0x004D3E3C+1052684]\n\tGetHandleVerifier [0x004CD4A4+1025652]\n\tGetHandleVerifier [0x003FEA2B+179195]\n\t(No symbol) [0x003A6833]\n\t(No symbol) [0x003A3198]\n\t(No symbol) [0x003A3337]\n\t(No symbol) [0x0039B4BE]\n\tBaseThreadInitThunk [0x76FD00C9+25]\n\tRtlGetAppContainerNamedObjectPath [0x77607B4E+286]\n\tRtlGetAppContainerNamedObjectPath [0x77607B1E+238]\n",
     "output_type": "error",
     "traceback": [
      "\u001b[1;31m---------------------------------------------------------------------------\u001b[0m",
      "\u001b[1;31mNoSuchElementException\u001b[0m                    Traceback (most recent call last)",
      "Cell \u001b[1;32mIn[44], line 28\u001b[0m\n\u001b[0;32m     25\u001b[0m a_href[i]\u001b[38;5;241m.\u001b[39mclick()\n\u001b[0;32m     27\u001b[0m \u001b[38;5;66;03m# 카테고리 수집\u001b[39;00m\n\u001b[1;32m---> 28\u001b[0m category \u001b[38;5;241m=\u001b[39m driver\u001b[38;5;241m.\u001b[39mfind_element(By\u001b[38;5;241m.\u001b[39mCSS_SELECTOR, \u001b[38;5;124m\"\u001b[39m\u001b[38;5;124mul > li.on > a\u001b[39m\u001b[38;5;124m\"\u001b[39m)\u001b[38;5;241m.\u001b[39mtext\n\u001b[0;32m     29\u001b[0m category_list\u001b[38;5;241m.\u001b[39mappend(category)\n\u001b[0;32m     30\u001b[0m \u001b[38;5;66;03m# 제목수집\u001b[39;00m\n",
      "File \u001b[1;32m~\\anaconda3\\Lib\\site-packages\\selenium\\webdriver\\remote\\webdriver.py:748\u001b[0m, in \u001b[0;36mWebDriver.find_element\u001b[1;34m(self, by, value)\u001b[0m\n\u001b[0;32m    745\u001b[0m     by \u001b[38;5;241m=\u001b[39m By\u001b[38;5;241m.\u001b[39mCSS_SELECTOR\n\u001b[0;32m    746\u001b[0m     value \u001b[38;5;241m=\u001b[39m \u001b[38;5;124mf\u001b[39m\u001b[38;5;124m'\u001b[39m\u001b[38;5;124m[name=\u001b[39m\u001b[38;5;124m\"\u001b[39m\u001b[38;5;132;01m{\u001b[39;00mvalue\u001b[38;5;132;01m}\u001b[39;00m\u001b[38;5;124m\"\u001b[39m\u001b[38;5;124m]\u001b[39m\u001b[38;5;124m'\u001b[39m\n\u001b[1;32m--> 748\u001b[0m \u001b[38;5;28;01mreturn\u001b[39;00m \u001b[38;5;28mself\u001b[39m\u001b[38;5;241m.\u001b[39mexecute(Command\u001b[38;5;241m.\u001b[39mFIND_ELEMENT, {\u001b[38;5;124m\"\u001b[39m\u001b[38;5;124musing\u001b[39m\u001b[38;5;124m\"\u001b[39m: by, \u001b[38;5;124m\"\u001b[39m\u001b[38;5;124mvalue\u001b[39m\u001b[38;5;124m\"\u001b[39m: value})[\u001b[38;5;124m\"\u001b[39m\u001b[38;5;124mvalue\u001b[39m\u001b[38;5;124m\"\u001b[39m]\n",
      "File \u001b[1;32m~\\anaconda3\\Lib\\site-packages\\selenium\\webdriver\\remote\\webdriver.py:354\u001b[0m, in \u001b[0;36mWebDriver.execute\u001b[1;34m(self, driver_command, params)\u001b[0m\n\u001b[0;32m    352\u001b[0m response \u001b[38;5;241m=\u001b[39m \u001b[38;5;28mself\u001b[39m\u001b[38;5;241m.\u001b[39mcommand_executor\u001b[38;5;241m.\u001b[39mexecute(driver_command, params)\n\u001b[0;32m    353\u001b[0m \u001b[38;5;28;01mif\u001b[39;00m response:\n\u001b[1;32m--> 354\u001b[0m     \u001b[38;5;28mself\u001b[39m\u001b[38;5;241m.\u001b[39merror_handler\u001b[38;5;241m.\u001b[39mcheck_response(response)\n\u001b[0;32m    355\u001b[0m     response[\u001b[38;5;124m\"\u001b[39m\u001b[38;5;124mvalue\u001b[39m\u001b[38;5;124m\"\u001b[39m] \u001b[38;5;241m=\u001b[39m \u001b[38;5;28mself\u001b[39m\u001b[38;5;241m.\u001b[39m_unwrap_value(response\u001b[38;5;241m.\u001b[39mget(\u001b[38;5;124m\"\u001b[39m\u001b[38;5;124mvalue\u001b[39m\u001b[38;5;124m\"\u001b[39m, \u001b[38;5;28;01mNone\u001b[39;00m))\n\u001b[0;32m    356\u001b[0m     \u001b[38;5;28;01mreturn\u001b[39;00m response\n",
      "File \u001b[1;32m~\\anaconda3\\Lib\\site-packages\\selenium\\webdriver\\remote\\errorhandler.py:229\u001b[0m, in \u001b[0;36mErrorHandler.check_response\u001b[1;34m(self, response)\u001b[0m\n\u001b[0;32m    227\u001b[0m         alert_text \u001b[38;5;241m=\u001b[39m value[\u001b[38;5;124m\"\u001b[39m\u001b[38;5;124malert\u001b[39m\u001b[38;5;124m\"\u001b[39m]\u001b[38;5;241m.\u001b[39mget(\u001b[38;5;124m\"\u001b[39m\u001b[38;5;124mtext\u001b[39m\u001b[38;5;124m\"\u001b[39m)\n\u001b[0;32m    228\u001b[0m     \u001b[38;5;28;01mraise\u001b[39;00m exception_class(message, screen, stacktrace, alert_text)  \u001b[38;5;66;03m# type: ignore[call-arg]  # mypy is not smart enough here\u001b[39;00m\n\u001b[1;32m--> 229\u001b[0m \u001b[38;5;28;01mraise\u001b[39;00m exception_class(message, screen, stacktrace)\n",
      "\u001b[1;31mNoSuchElementException\u001b[0m: Message: no such element: Unable to locate element: {\"method\":\"css selector\",\"selector\":\"ul > li.on > a\"}\n  (Session info: chrome=127.0.6533.100); For documentation on this error, please visit: https://www.selenium.dev/documentation/webdriver/troubleshooting/errors#no-such-element-exception\nStacktrace:\n\tGetHandleVerifier [0x003D8923+23283]\n\t(No symbol) [0x0039E934]\n\t(No symbol) [0x002D0733]\n\t(No symbol) [0x0031326F]\n\t(No symbol) [0x003134AB]\n\t(No symbol) [0x0034EE42]\n\t(No symbol) [0x00334464]\n\t(No symbol) [0x0034CB8D]\n\t(No symbol) [0x003341B6]\n\t(No symbol) [0x00308017]\n\t(No symbol) [0x0030890D]\n\tGetHandleVerifier [0x004CA5E3+1013683]\n\tGetHandleVerifier [0x004D3E3C+1052684]\n\tGetHandleVerifier [0x004CD4A4+1025652]\n\tGetHandleVerifier [0x003FEA2B+179195]\n\t(No symbol) [0x003A6833]\n\t(No symbol) [0x003A3198]\n\t(No symbol) [0x003A3337]\n\t(No symbol) [0x0039B4BE]\n\tBaseThreadInitThunk [0x76FD00C9+25]\n\tRtlGetAppContainerNamedObjectPath [0x77607B4E+286]\n\tRtlGetAppContainerNamedObjectPath [0x77607B1E+238]\n"
     ]
    }
   ],
   "source": [
    "options = Options()\n",
    "options.add_argument(\"disable-blink-features=AutomationControlled\")  # 자동화 탐지 방지\n",
    "options.add_experimental_option(\"excludeSwitches\", [\"enable-automation\"])  # 자동화 표시 제거\n",
    "options.add_experimental_option('useAutomationExtension', False)  # 자동화 확장 기능 사용 안 함\n",
    "\n",
    "# 1. Selenium 웹 브라우저 켜기\n",
    "driver_path = ChromeDriverManager().install()\n",
    "correct_driver_path = os.path.join(os.path.dirname(driver_path), \"chromedriver.exe\")\n",
    "driver = wb.Chrome(service=Service(executable_path=correct_driver_path), options=options)\n",
    "\n",
    "# 2. URL 접속\n",
    "driver.get(\"https://www.gmarket.co.kr/n/best\")\n",
    "\n",
    "# 3. 베스트 상품(200건) url 추출\n",
    "a_href = driver.find_elements(By.CSS_SELECTOR, \"ul.list__best > li > a\")\n",
    "\n",
    "category_list = []\n",
    "title_list = []\n",
    "price_list = []\n",
    "# 4. 베스트 상품(단건) 접속해서 데이터 수집\n",
    "# range(200) -> 0~199, 1씩 증가\n",
    "for i in range(len(a_href)):\n",
    "    # 페이지가 이동하면 새로운 페이지로 인식돼서 링크를 다시 알려줘야함(selenium 특징_기존 링크 데이터 사라짐)\n",
    "    a_href = driver.find_elements(By.CSS_SELECTOR, \"ul.list__best > li > a\")\n",
    "    a_href[i].click()\n",
    "    \n",
    "    # 카테고리 수집\n",
    "    category = driver.find_element(By.CSS_SELECTOR, \"ul > li.on > a\").text\n",
    "    category_list.append(category)\n",
    "    # 제목수집\n",
    "    title = driver.find_element(By.CLASS_NAME, \"itemtit\").text\n",
    "    title_list.append(title)\n",
    "    # 가격수집\n",
    "    price = driver.find_element(By.CLASS_NAME, \"price_real\").text\n",
    "    price_list.append(price)\n",
    "\n",
    "    # 뒤로 가기\n",
    "    driver.back()"
   ]
  },
  {
   "cell_type": "code",
   "execution_count": 60,
   "id": "08bb59c7-1488-44f1-b6ac-15b4f0443c04",
   "metadata": {},
   "outputs": [
    {
     "ename": "IndexError",
     "evalue": "list index out of range",
     "output_type": "error",
     "traceback": [
      "\u001b[1;31m---------------------------------------------------------------------------\u001b[0m",
      "\u001b[1;31mIndexError\u001b[0m                                Traceback (most recent call last)",
      "Cell \u001b[1;32mIn[60], line 20\u001b[0m\n\u001b[0;32m     17\u001b[0m \u001b[38;5;28;01mfor\u001b[39;00m i \u001b[38;5;129;01min\u001b[39;00m \u001b[38;5;28mrange\u001b[39m(\u001b[38;5;241m145\u001b[39m,\u001b[38;5;28mlen\u001b[39m(a_href)):\n\u001b[0;32m     18\u001b[0m     \u001b[38;5;66;03m# 페이지가 이동하면 새로운 페이지로 인식돼서 링크를 다시 알려줘야함(selenium 특징_기존 링크 데이터 사라짐)\u001b[39;00m\n\u001b[0;32m     19\u001b[0m     a_href \u001b[38;5;241m=\u001b[39m driver\u001b[38;5;241m.\u001b[39mfind_elements(By\u001b[38;5;241m.\u001b[39mCSS_SELECTOR, \u001b[38;5;124m\"\u001b[39m\u001b[38;5;124mul.list__best > li > a\u001b[39m\u001b[38;5;124m\"\u001b[39m)\n\u001b[1;32m---> 20\u001b[0m     a_href[i]\u001b[38;5;241m.\u001b[39mclick()\n\u001b[0;32m     22\u001b[0m     \u001b[38;5;66;03m# 카테고리 수집\u001b[39;00m\n\u001b[0;32m     23\u001b[0m     category \u001b[38;5;241m=\u001b[39m driver\u001b[38;5;241m.\u001b[39mfind_element(By\u001b[38;5;241m.\u001b[39mCSS_SELECTOR, \u001b[38;5;124m\"\u001b[39m\u001b[38;5;124mul > li.on > a\u001b[39m\u001b[38;5;124m\"\u001b[39m)\u001b[38;5;241m.\u001b[39mtext\n",
      "\u001b[1;31mIndexError\u001b[0m: list index out of range"
     ]
    }
   ],
   "source": [
    "options = Options()\n",
    "options.add_argument(\"disable-blink-features=AutomationControlled\")  # 자동화 탐지 방지\n",
    "options.add_experimental_option(\"excludeSwitches\", [\"enable-automation\"])  # 자동화 표시 제거\n",
    "options.add_experimental_option('useAutomationExtension', False)  # 자동화 확장 기능 사용 안 함\n",
    "\n",
    "# 1. Selenium 웹 브라우저 켜기\n",
    "driver_path = ChromeDriverManager().install()\n",
    "correct_driver_path = os.path.join(os.path.dirname(driver_path), \"chromedriver.exe\")\n",
    "driver = wb.Chrome(service=Service(executable_path=correct_driver_path), options=options)\n",
    "\n",
    "# 2. URL 접속\n",
    "driver.get(\"https://www.gmarket.co.kr/n/best\")\n",
    "\n",
    "# 3. 베스트 상품(200건) url 추출\n",
    "a_href = driver.find_elements(By.CSS_SELECTOR, \"ul.list__best > li > a\")\n",
    "\n",
    "for i in range(145,len(a_href)):\n",
    "    # 페이지가 이동하면 새로운 페이지로 인식돼서 링크를 다시 알려줘야함(selenium 특징_기존 링크 데이터 사라짐)\n",
    "    a_href = driver.find_elements(By.CSS_SELECTOR, \"ul.list__best > li > a\")\n",
    "    a_href[i].click()\n",
    "    \n",
    "    # 카테고리 수집\n",
    "    category = driver.find_element(By.CSS_SELECTOR, \"ul > li.on > a\").text\n",
    "    category_list.append(category)\n",
    "    # 제목수집\n",
    "    title = driver.find_element(By.CLASS_NAME, \"itemtit\").text\n",
    "    title_list.append(title)\n",
    "    # 가격수집\n",
    "    price = driver.find_element(By.CLASS_NAME, \"price_real\").text\n",
    "    price_list.append(price)\n",
    "\n",
    "    # 뒤로 가기\n",
    "    driver.back()"
   ]
  },
  {
   "cell_type": "code",
   "execution_count": 66,
   "id": "85a71eb3-9baa-4384-9fc8-ee75b05ca128",
   "metadata": {},
   "outputs": [],
   "source": [
    "dict = {\n",
    "    \"카테고리\" : category_list,\n",
    "    \"상품명\" : title_list,\n",
    "    \"상품가격\": price_list\n",
    "}\n",
    "\n",
    "gmarket = pd.DataFrame(dict)\n",
    "gmarket.to_csv(\"gmarket_best_150.csv\", encoding=\"UTF-8\")"
   ]
  },
  {
   "cell_type": "code",
   "execution_count": null,
   "id": "6143b5c9-770e-41a3-a4f1-be91bf28b114",
   "metadata": {},
   "outputs": [],
   "source": []
  }
 ],
 "metadata": {
  "kernelspec": {
   "display_name": "Python 3 (ipykernel)",
   "language": "python",
   "name": "python3"
  },
  "language_info": {
   "codemirror_mode": {
    "name": "ipython",
    "version": 3
   },
   "file_extension": ".py",
   "mimetype": "text/x-python",
   "name": "python",
   "nbconvert_exporter": "python",
   "pygments_lexer": "ipython3",
   "version": "3.11.7"
  }
 },
 "nbformat": 4,
 "nbformat_minor": 5
}

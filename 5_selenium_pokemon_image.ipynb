{
 "cells": [
  {
   "cell_type": "markdown",
   "id": "06cd045a-b867-4cc4-b256-7f944c8e332d",
   "metadata": {},
   "source": [
    "### 프로젝트: 포켓몬 이미지를 수집\n",
    "- 포켓몬 공식 사이트에서 제공하는 포켓몬 도감의 이미지를 저장"
   ]
  },
  {
   "cell_type": "code",
   "execution_count": 2,
   "id": "e3e23a8a-883f-4b39-af1a-d18ff4bb5933",
   "metadata": {},
   "outputs": [],
   "source": [
    "import os"
   ]
  },
  {
   "cell_type": "code",
   "execution_count": 8,
   "id": "fc655202-6b1f-4ee3-9318-3e6a9bd659f8",
   "metadata": {},
   "outputs": [],
   "source": [
    "# 폴더 생성\n",
    "# - 기존에 중복 폴더가 존재하면 ERROR\n",
    "path = \"pokemon\" # 폴더 경로\n",
    "if not os.path.isdir(path):\n",
    "    os.mkdir(path)"
   ]
  },
  {
   "cell_type": "code",
   "execution_count": 92,
   "id": "71a8ff9e-0b82-408f-bd06-e914278c5605",
   "metadata": {},
   "outputs": [],
   "source": [
    "from selenium.webdriver.chrome.service import Service\n",
    "from webdriver_manager.chrome import ChromeDriverManager\n",
    "from selenium.webdriver.chrome.options import Options\n",
    "\n",
    "from selenium import webdriver as wb\n",
    "from selenium.webdriver.common.keys import Keys\n",
    "from selenium.webdriver.common.by import By\n",
    "\n",
    "import pandas as pd\n",
    "import time\n",
    "from tqdm import tqdm as tq\n",
    "from bs4 import BeautifulSoup as bs"
   ]
  },
  {
   "cell_type": "code",
   "execution_count": 94,
   "id": "8fb5e2ac-06ac-4b03-b6d8-c2dd92858f85",
   "metadata": {},
   "outputs": [],
   "source": [
    "options = Options()\n",
    "options.add_argument(\"disable-blink-features=AutomationControlled\")  # 자동화 탐지 방지\n",
    "options.add_experimental_option(\"excludeSwitches\", [\"enable-automation\"])  # 자동화 표시 제거\n",
    "options.add_experimental_option('useAutomationExtension', False)  # 자동화 확장 기능 사용 안 함\n",
    "\n",
    "driver_path = ChromeDriverManager().install()\n",
    "correct_driver_path = os.path.join(os.path.dirname(driver_path), \"chromedriver.exe\")\n",
    "driver = wb.Chrome(service=Service(executable_path=correct_driver_path), options=options)"
   ]
  },
  {
   "cell_type": "code",
   "execution_count": 96,
   "id": "431a3dba-9610-4126-b9e8-7e00e840145f",
   "metadata": {},
   "outputs": [],
   "source": [
    "driver.get(\"https://pokemonkorea.co.kr/pokedex\")"
   ]
  },
  {
   "cell_type": "markdown",
   "id": "adbd301f-ef63-435a-93f3-b3b0e595fb48",
   "metadata": {},
   "source": [
    "##### 정적 크롤링\n",
    "- requests.text, driver.page_source → 정적(문자열 → 파싱(BeautifulSoup))\n",
    "\n",
    "##### 동적 크롤링\n",
    "- driver.find_elements() -> 현재 보고 있는 웹페이지가 변경되면, 요소 지정도 변경 해야함!"
   ]
  },
  {
   "cell_type": "code",
   "execution_count": 98,
   "id": "ad60429a-2462-423d-af5b-0460ada0840b",
   "metadata": {},
   "outputs": [],
   "source": [
    "# 현재 selenium 웹 브라우저가 접속하고 있는 페이지의 전체 HTML 소스를 가져와서\n",
    "# BeautifulSoup을 사용해서 -> parsing\n",
    "soup = bs(driver.page_source, \"lxml\")"
   ]
  },
  {
   "cell_type": "code",
   "execution_count": 100,
   "id": "46408839-f351-4b93-9391-5e90646b520d",
   "metadata": {},
   "outputs": [
    {
     "name": "stdout",
     "output_type": "stream",
     "text": [
      "18\n"
     ]
    }
   ],
   "source": [
    "img = soup.select(\"img.img-fluid\")\n",
    "print(len(img))"
   ]
  },
  {
   "cell_type": "code",
   "execution_count": 102,
   "id": "23909677-7a58-4586-a717-163fac56ac43",
   "metadata": {},
   "outputs": [],
   "source": [
    "# URL 내용을 파일로 다운로드 가능!\n",
    "from urllib.request import urlretrieve\n",
    "\n",
    "# urlretrieve(img[0][\"src\"], \"pokemon/pokemon_1.jpeg\")"
   ]
  },
  {
   "cell_type": "code",
   "execution_count": 35,
   "id": "9e7b85dc-5388-4616-9c1b-00cb85c20028",
   "metadata": {},
   "outputs": [],
   "source": [
    "# 포켓몬 18마리 이미지 저장 -> pokemon\n",
    "# 이미지 이름은 pokemon_1.jpg\n",
    "for i, pokemon in enumerate(img):\n",
    "    # 이미지 저장\n",
    "    urlretrieve(pokemon[\"src\"], f\"pokemon/pokemon_{i+1}.jpeg\")"
   ]
  },
  {
   "cell_type": "markdown",
   "id": "7b98bb64-62c0-4a37-91f9-5849caf4fcc9",
   "metadata": {},
   "source": [
    "#### Selenium 스크롤 제어!\n",
    "- 마우스 휠 스크롤 제어 존재하지 않음!\n",
    "- 키보드 입력으로 스크롤 내리기 가능!"
   ]
  },
  {
   "cell_type": "code",
   "execution_count": 104,
   "id": "d914a1ef-3fa5-4aee-9088-674e064f4d40",
   "metadata": {},
   "outputs": [],
   "source": [
    "body = driver.find_element(By.TAG_NAME, \"body\")\n",
    "\n",
    "# 화면 최대화\n",
    "driver.maximize_window()"
   ]
  },
  {
   "cell_type": "code",
   "execution_count": 106,
   "id": "ed3c64c2-1d59-46b1-8726-4bdcba810578",
   "metadata": {},
   "outputs": [],
   "source": [
    "# 스크롤 하강 알고리즘\n",
    "# body.send_keys(Keys.END)\n",
    "\n",
    "#스크롤 내리기 전의 길이 저장\n",
    "old_height = driver.execute_script(\"return document.body.scrollHeight\")"
   ]
  },
  {
   "cell_type": "code",
   "execution_count": 90,
   "id": "7c2c9d05-1c2c-4233-ac3f-a833e7f38acb",
   "metadata": {},
   "outputs": [
    {
     "data": {
      "text/plain": [
       "76347"
      ]
     },
     "execution_count": 90,
     "metadata": {},
     "output_type": "execute_result"
    }
   ],
   "source": [
    "while True: #break문을 함께 사용\n",
    "    #1. body태그 가져와서 스크롤 내리기!\n",
    "    body = driver.find_element(By.TAG_NAME, \"body\")\n",
    "    body.send_keys(Keys.END)\n",
    "    time_sleep(1)\n",
    "\n",
    "    #2. 스크롤 내리고 난 후 길이 저장\n",
    "    new_height=driver.execute_script(\"return document.body.scrollHeight\")\n",
    "\n",
    "    #3. 스크롤 내리기 전과 후의 길이가 같으면 멈춤(마지막 스크롤)\n",
    "    if old_height == new_height:\n",
    "        break\n",
    "\n",
    "    #4. 이전 페이지의 높이를 새로운 페이지의 높이로 업데이트\n",
    "    old_height=new_height\n",
    "    \n",
    "driver.close()"
   ]
  },
  {
   "cell_type": "markdown",
   "id": "a7419c11-67a7-4de7-b057-9614db152eb4",
   "metadata": {},
   "source": [
    "### 프로젝트: 포켓몬(1025마리) 도감 수집!"
   ]
  },
  {
   "cell_type": "code",
   "execution_count": null,
   "id": "a3384e30-dd89-4290-a099-1b2f7b886acf",
   "metadata": {},
   "outputs": [],
   "source": [
    "# 1. 수집한 포켓몬 도감을 저장할 폴더 생성!\n",
    "path = \"pokemon\"\n",
    "if not os.path.isdir(path):\n",
    "    os.mkdir(path)\n",
    "\n",
    "# 2. 웹 브라우저 On 및 포켓몬 사이트 접속\n",
    "driver_path = ChromeDriverManager().install()\n",
    "correct_driver_path = os.path.join(os.path.dirname(driver_path), \"chromedriver.exe\")\n",
    "driver = wb.Chrome(service=Service(executable_path=correct_driver_path), options=options)\n",
    "driver.get(\"https://pokemonkorea.co.kr/pokedex\")\n",
    "\n",
    "#3. 스크롤 하강\n",
    "driver.maximize_window()  # 화면 최대화\n",
    "old_height = driver.execute_script(\"return document.body.scrollHeight\")  #스크롤 내리기 전의 길이 저장\n",
    "while True: #break문을 함께 사용\n",
    "    body = driver.find_element(By.TAG_NAME, \"body\")\n",
    "    body.send_keys(Keys.END)\n",
    "    time_sleep(1)\n",
    "    new_height=driver.execute_script(\"return document.body.scrollHeight\")\n",
    "    if old_height == new_height:\n",
    "        break\n",
    "    old_height=new_height\n",
    "\n",
    "#4. 이미지 수집 및 저장\n",
    "img = driver.find_elements(By.CSS_SELECTOR, \"img.img-fluid\")\n",
    "for i in tq(range(len(img))):\n",
    "    ultretrieve(img[i].get_attribute(src), f\"pokemon/pokemon_{i+1}.jpg\")\n",
    "\n",
    "# 5. 종료\n",
    "driver.quit()"
   ]
  },
  {
   "cell_type": "markdown",
   "id": "0b0700a9-e64a-47eb-873f-65b555985b49",
   "metadata": {},
   "source": [
    "### 심화: 해당 요소 wait 기법\n",
    "- time.sleep() -> 고정적으로 ?초동안 기다렸다가 실행!\n",
    "- 페이지 로딩 시간은 시시각각 다름(인터넷 속도, 서버의 트래픽, 부하 등의 요소 영향을 받기 때문)\n",
    "- wait 모듈을 활용하면, 좀 더 효율적으로 페이지 load를 기다려 볼 수 있음\n",
    "\n",
    "#### SEO(검색 엔진 최적화)\n",
    "    - 웹사이트가 검색 결과에 더 잘 보이도록 최적화하는 과정<br>\n",
    "\n",
    "#### SSR(Server Side Rendering)\n",
    "    - 클라이언트 -> 서버 -> 서버: 랜더링(그림) -> 클라이언트<br>\n",
    "    - 서버 측에서 렌더링해서 클라이언트로 보냄. 서버에 부하가 많음<br>\n",
    "    - Next.js, Nuxt.js\n",
    "    \n",
    "#### CSR(Client Side Rendering)\n",
    "    - 클라이언트 -> 서버 -> 서버: 소스코드 -> 클라이언트 -> 랜더링<br>\n",
    "    - 클라이언트 측에서 랜더링 진행하여 서버 부하가 줄어듦. but, SEO가 약해짐. <br>\n",
    "    - ex) React.js, Angular.js, Vue.js"
   ]
  },
  {
   "cell_type": "code",
   "execution_count": null,
   "id": "d3d3b6bb-7f45-417a-97ab-cf71a9b27ad2",
   "metadata": {},
   "outputs": [],
   "source": [
    "from selenium.webdriver.support.ui import WebDriverWait\n",
    "\n",
    "wait = WebDriverWait(driver, 10)\n",
    "items = wait.until(EC.presence_of_all_elements_located(By.CSS.SELECTOR, \"img.img-fluid\"))"
   ]
  },
  {
   "cell_type": "code",
   "execution_count": null,
   "id": "c33bbe67-04d8-405c-acbf-f5a673541c50",
   "metadata": {},
   "outputs": [],
   "source": []
  },
  {
   "cell_type": "code",
   "execution_count": null,
   "id": "16b07826-73d4-473e-899d-4e448771e9aa",
   "metadata": {},
   "outputs": [],
   "source": []
  },
  {
   "cell_type": "code",
   "execution_count": null,
   "id": "7452b46a-6072-49f6-8270-857f07cc4ef4",
   "metadata": {},
   "outputs": [],
   "source": []
  },
  {
   "cell_type": "code",
   "execution_count": null,
   "id": "e24b4f38-6957-4d33-a82b-18660e7b8523",
   "metadata": {},
   "outputs": [],
   "source": []
  }
 ],
 "metadata": {
  "kernelspec": {
   "display_name": "Python 3 (ipykernel)",
   "language": "python",
   "name": "python3"
  },
  "language_info": {
   "codemirror_mode": {
    "name": "ipython",
    "version": 3
   },
   "file_extension": ".py",
   "mimetype": "text/x-python",
   "name": "python",
   "nbconvert_exporter": "python",
   "pygments_lexer": "ipython3",
   "version": "3.11.7"
  }
 },
 "nbformat": 4,
 "nbformat_minor": 5
}

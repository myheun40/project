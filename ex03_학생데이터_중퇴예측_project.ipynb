{
 "cells": [
  {
   "cell_type": "markdown",
   "id": "145d6ce7-55d4-4abb-9509-cfd99cdf0811",
   "metadata": {},
   "source": [
    "#### 1. 학업에 중요한 영향을 미치는 요인 파악 -> 학업 중퇴 및 실패 줄이기\n",
    "#### 2. 개인별 학업 진행상황 파악 -> 성취도 높이기 위한 교육 및 활동 설계!\n",
    "#### 3. 인구통계정보를 기반으로 특정 지역이나 사회계층적으로 고등교육에 접근하기 어려운 사람들을 위한 방법 설계!"
   ]
  },
  {
   "cell_type": "markdown",
   "id": "7f4d5eee-fc82-412e-90d6-369cf1d15894",
   "metadata": {},
   "source": [
    "##### 가설1) 부모님의 학력에 따른 중퇴여부, 상관관계\n",
    "##### 가설2) 물가상승률과 실업률이 성적(1,2학기)에 영향을 줄까?"
   ]
  },
  {
   "cell_type": "code",
   "execution_count": 7,
   "id": "c0db8736-0101-4514-8986-cfbe782b1a7d",
   "metadata": {},
   "outputs": [],
   "source": [
    "import pandas as pd"
   ]
  },
  {
   "cell_type": "code",
   "execution_count": 237,
   "id": "a245dd52-79f2-404c-af9f-2aaa706ce48e",
   "metadata": {},
   "outputs": [
    {
     "data": {
      "text/html": [
       "<div>\n",
       "<style scoped>\n",
       "    .dataframe tbody tr th:only-of-type {\n",
       "        vertical-align: middle;\n",
       "    }\n",
       "\n",
       "    .dataframe tbody tr th {\n",
       "        vertical-align: top;\n",
       "    }\n",
       "\n",
       "    .dataframe thead th {\n",
       "        text-align: right;\n",
       "    }\n",
       "</style>\n",
       "<table border=\"1\" class=\"dataframe\">\n",
       "  <thead>\n",
       "    <tr style=\"text-align: right;\">\n",
       "      <th></th>\n",
       "      <th>Marital status</th>\n",
       "      <th>Application mode</th>\n",
       "      <th>Application order</th>\n",
       "      <th>Course</th>\n",
       "      <th>Previous qualification</th>\n",
       "      <th>Previous qualification (grade)</th>\n",
       "      <th>Nacionality</th>\n",
       "      <th>Mother's qualification</th>\n",
       "      <th>Father's qualification</th>\n",
       "      <th>Mother's occupation</th>\n",
       "      <th>...</th>\n",
       "      <th>Curricular units 2nd sem (enrolled)</th>\n",
       "      <th>Curricular units 2nd sem (evaluations)</th>\n",
       "      <th>Curricular units 2nd sem (approved)</th>\n",
       "      <th>Curricular units 2nd sem (grade)</th>\n",
       "      <th>Curricular units 2nd sem (without evaluations)</th>\n",
       "      <th>Unemployment rate</th>\n",
       "      <th>Inflation rate</th>\n",
       "      <th>GDP</th>\n",
       "      <th>Target</th>\n",
       "      <th>Daytime/evening attendance</th>\n",
       "    </tr>\n",
       "  </thead>\n",
       "  <tbody>\n",
       "    <tr>\n",
       "      <th>0</th>\n",
       "      <td>single</td>\n",
       "      <td>17</td>\n",
       "      <td>5</td>\n",
       "      <td>Animation and Multimedia Design</td>\n",
       "      <td>Secondary education</td>\n",
       "      <td>122.0</td>\n",
       "      <td>Portuguese</td>\n",
       "      <td>Basic Education 3rd Cycle (9th/10th/11th Year)...</td>\n",
       "      <td>Other - 11th Year of Schooling</td>\n",
       "      <td>Personal Services, Security and Safety Workers...</td>\n",
       "      <td>...</td>\n",
       "      <td>0</td>\n",
       "      <td>0</td>\n",
       "      <td>0</td>\n",
       "      <td>0.000000</td>\n",
       "      <td>0</td>\n",
       "      <td>10.8</td>\n",
       "      <td>1.4</td>\n",
       "      <td>1.74</td>\n",
       "      <td>Dropout</td>\n",
       "      <td>daytime</td>\n",
       "    </tr>\n",
       "    <tr>\n",
       "      <th>1</th>\n",
       "      <td>single</td>\n",
       "      <td>15</td>\n",
       "      <td>1</td>\n",
       "      <td>Tourism</td>\n",
       "      <td>Secondary education</td>\n",
       "      <td>160.0</td>\n",
       "      <td>Portuguese</td>\n",
       "      <td>Secondary Education - 12th Year of Schooling o...</td>\n",
       "      <td>Higher Education - Degree</td>\n",
       "      <td>Intermediate Level Technicians and Professions</td>\n",
       "      <td>...</td>\n",
       "      <td>6</td>\n",
       "      <td>6</td>\n",
       "      <td>6</td>\n",
       "      <td>13.666667</td>\n",
       "      <td>0</td>\n",
       "      <td>13.9</td>\n",
       "      <td>-0.3</td>\n",
       "      <td>0.79</td>\n",
       "      <td>Graduate</td>\n",
       "      <td>daytime</td>\n",
       "    </tr>\n",
       "    <tr>\n",
       "      <th>2</th>\n",
       "      <td>single</td>\n",
       "      <td>1</td>\n",
       "      <td>5</td>\n",
       "      <td>Communication Design</td>\n",
       "      <td>Secondary education</td>\n",
       "      <td>122.0</td>\n",
       "      <td>Portuguese</td>\n",
       "      <td>Basic education 1st cycle (4th/5th year) or eq...</td>\n",
       "      <td>Basic education 1st cycle (4th/5th year) or eq...</td>\n",
       "      <td>Unskilled Workers</td>\n",
       "      <td>...</td>\n",
       "      <td>6</td>\n",
       "      <td>0</td>\n",
       "      <td>0</td>\n",
       "      <td>0.000000</td>\n",
       "      <td>0</td>\n",
       "      <td>10.8</td>\n",
       "      <td>1.4</td>\n",
       "      <td>1.74</td>\n",
       "      <td>Dropout</td>\n",
       "      <td>daytime</td>\n",
       "    </tr>\n",
       "    <tr>\n",
       "      <th>3</th>\n",
       "      <td>single</td>\n",
       "      <td>17</td>\n",
       "      <td>2</td>\n",
       "      <td>Journalism and Communication</td>\n",
       "      <td>Secondary education</td>\n",
       "      <td>122.0</td>\n",
       "      <td>Portuguese</td>\n",
       "      <td>Basic Education 2nd Cycle (6th/7th/8th Year) o...</td>\n",
       "      <td>Basic education 1st cycle (4th/5th year) or eq...</td>\n",
       "      <td>Personal Services, Security and Safety Workers...</td>\n",
       "      <td>...</td>\n",
       "      <td>6</td>\n",
       "      <td>10</td>\n",
       "      <td>5</td>\n",
       "      <td>12.400000</td>\n",
       "      <td>0</td>\n",
       "      <td>9.4</td>\n",
       "      <td>-0.8</td>\n",
       "      <td>-3.12</td>\n",
       "      <td>Graduate</td>\n",
       "      <td>daytime</td>\n",
       "    </tr>\n",
       "    <tr>\n",
       "      <th>4</th>\n",
       "      <td>married</td>\n",
       "      <td>39</td>\n",
       "      <td>1</td>\n",
       "      <td>Social Service (evening attendance)</td>\n",
       "      <td>Secondary education</td>\n",
       "      <td>100.0</td>\n",
       "      <td>Portuguese</td>\n",
       "      <td>Basic education 1st cycle (4th/5th year) or eq...</td>\n",
       "      <td>Basic Education 2nd Cycle (6th/7th/8th Year) o...</td>\n",
       "      <td>Unskilled Workers</td>\n",
       "      <td>...</td>\n",
       "      <td>6</td>\n",
       "      <td>6</td>\n",
       "      <td>6</td>\n",
       "      <td>13.000000</td>\n",
       "      <td>0</td>\n",
       "      <td>13.9</td>\n",
       "      <td>-0.3</td>\n",
       "      <td>0.79</td>\n",
       "      <td>Graduate</td>\n",
       "      <td>evening</td>\n",
       "    </tr>\n",
       "    <tr>\n",
       "      <th>...</th>\n",
       "      <td>...</td>\n",
       "      <td>...</td>\n",
       "      <td>...</td>\n",
       "      <td>...</td>\n",
       "      <td>...</td>\n",
       "      <td>...</td>\n",
       "      <td>...</td>\n",
       "      <td>...</td>\n",
       "      <td>...</td>\n",
       "      <td>...</td>\n",
       "      <td>...</td>\n",
       "      <td>...</td>\n",
       "      <td>...</td>\n",
       "      <td>...</td>\n",
       "      <td>...</td>\n",
       "      <td>...</td>\n",
       "      <td>...</td>\n",
       "      <td>...</td>\n",
       "      <td>...</td>\n",
       "      <td>...</td>\n",
       "      <td>...</td>\n",
       "    </tr>\n",
       "    <tr>\n",
       "      <th>4419</th>\n",
       "      <td>single</td>\n",
       "      <td>1</td>\n",
       "      <td>6</td>\n",
       "      <td>Journalism and Communication</td>\n",
       "      <td>Secondary education</td>\n",
       "      <td>125.0</td>\n",
       "      <td>Portuguese</td>\n",
       "      <td>Secondary Education - 12th Year of Schooling o...</td>\n",
       "      <td>Secondary Education - 12th Year of Schooling o...</td>\n",
       "      <td>Personal Services, Security and Safety Workers...</td>\n",
       "      <td>...</td>\n",
       "      <td>6</td>\n",
       "      <td>8</td>\n",
       "      <td>5</td>\n",
       "      <td>12.666667</td>\n",
       "      <td>0</td>\n",
       "      <td>15.5</td>\n",
       "      <td>2.8</td>\n",
       "      <td>-4.06</td>\n",
       "      <td>Graduate</td>\n",
       "      <td>daytime</td>\n",
       "    </tr>\n",
       "    <tr>\n",
       "      <th>4420</th>\n",
       "      <td>single</td>\n",
       "      <td>1</td>\n",
       "      <td>2</td>\n",
       "      <td>Journalism and Communication</td>\n",
       "      <td>Secondary education</td>\n",
       "      <td>120.0</td>\n",
       "      <td>Russian</td>\n",
       "      <td>Secondary Education - 12th Year of Schooling o...</td>\n",
       "      <td>Secondary Education - 12th Year of Schooling o...</td>\n",
       "      <td>Unskilled Workers</td>\n",
       "      <td>...</td>\n",
       "      <td>6</td>\n",
       "      <td>6</td>\n",
       "      <td>2</td>\n",
       "      <td>11.000000</td>\n",
       "      <td>0</td>\n",
       "      <td>11.1</td>\n",
       "      <td>0.6</td>\n",
       "      <td>2.02</td>\n",
       "      <td>Dropout</td>\n",
       "      <td>daytime</td>\n",
       "    </tr>\n",
       "    <tr>\n",
       "      <th>4421</th>\n",
       "      <td>single</td>\n",
       "      <td>1</td>\n",
       "      <td>1</td>\n",
       "      <td>Nursing</td>\n",
       "      <td>Secondary education</td>\n",
       "      <td>154.0</td>\n",
       "      <td>Portuguese</td>\n",
       "      <td>Basic education 1st cycle (4th/5th year) or eq...</td>\n",
       "      <td>Basic education 1st cycle (4th/5th year) or eq...</td>\n",
       "      <td>Unskilled Workers</td>\n",
       "      <td>...</td>\n",
       "      <td>8</td>\n",
       "      <td>9</td>\n",
       "      <td>1</td>\n",
       "      <td>13.500000</td>\n",
       "      <td>0</td>\n",
       "      <td>13.9</td>\n",
       "      <td>-0.3</td>\n",
       "      <td>0.79</td>\n",
       "      <td>Dropout</td>\n",
       "      <td>daytime</td>\n",
       "    </tr>\n",
       "    <tr>\n",
       "      <th>4422</th>\n",
       "      <td>single</td>\n",
       "      <td>1</td>\n",
       "      <td>1</td>\n",
       "      <td>Management</td>\n",
       "      <td>Secondary education</td>\n",
       "      <td>180.0</td>\n",
       "      <td>Portuguese</td>\n",
       "      <td>Basic education 1st cycle (4th/5th year) or eq...</td>\n",
       "      <td>Basic education 1st cycle (4th/5th year) or eq...</td>\n",
       "      <td>Skilled Workers in Industry, Construction and ...</td>\n",
       "      <td>...</td>\n",
       "      <td>5</td>\n",
       "      <td>6</td>\n",
       "      <td>5</td>\n",
       "      <td>12.000000</td>\n",
       "      <td>0</td>\n",
       "      <td>9.4</td>\n",
       "      <td>-0.8</td>\n",
       "      <td>-3.12</td>\n",
       "      <td>Graduate</td>\n",
       "      <td>daytime</td>\n",
       "    </tr>\n",
       "    <tr>\n",
       "      <th>4423</th>\n",
       "      <td>single</td>\n",
       "      <td>10</td>\n",
       "      <td>1</td>\n",
       "      <td>Journalism and Communication</td>\n",
       "      <td>Secondary education</td>\n",
       "      <td>152.0</td>\n",
       "      <td>Cape Verdean</td>\n",
       "      <td>Basic Education 2nd Cycle (6th/7th/8th Year) o...</td>\n",
       "      <td>Basic education 1st cycle (4th/5th year) or eq...</td>\n",
       "      <td>Personal Services, Security and Safety Workers...</td>\n",
       "      <td>...</td>\n",
       "      <td>6</td>\n",
       "      <td>6</td>\n",
       "      <td>6</td>\n",
       "      <td>13.000000</td>\n",
       "      <td>0</td>\n",
       "      <td>12.7</td>\n",
       "      <td>3.7</td>\n",
       "      <td>-1.70</td>\n",
       "      <td>Graduate</td>\n",
       "      <td>daytime</td>\n",
       "    </tr>\n",
       "  </tbody>\n",
       "</table>\n",
       "<p>4424 rows × 37 columns</p>\n",
       "</div>"
      ],
      "text/plain": [
       "     Marital status  Application mode  Application order  \\\n",
       "0            single                17                  5   \n",
       "1            single                15                  1   \n",
       "2            single                 1                  5   \n",
       "3            single                17                  2   \n",
       "4           married                39                  1   \n",
       "...             ...               ...                ...   \n",
       "4419         single                 1                  6   \n",
       "4420         single                 1                  2   \n",
       "4421         single                 1                  1   \n",
       "4422         single                 1                  1   \n",
       "4423         single                10                  1   \n",
       "\n",
       "                                   Course Previous qualification  \\\n",
       "0         Animation and Multimedia Design    Secondary education   \n",
       "1                                 Tourism    Secondary education   \n",
       "2                    Communication Design    Secondary education   \n",
       "3            Journalism and Communication    Secondary education   \n",
       "4     Social Service (evening attendance)    Secondary education   \n",
       "...                                   ...                    ...   \n",
       "4419         Journalism and Communication    Secondary education   \n",
       "4420         Journalism and Communication    Secondary education   \n",
       "4421                              Nursing    Secondary education   \n",
       "4422                           Management    Secondary education   \n",
       "4423         Journalism and Communication    Secondary education   \n",
       "\n",
       "      Previous qualification (grade)   Nacionality  \\\n",
       "0                              122.0    Portuguese   \n",
       "1                              160.0    Portuguese   \n",
       "2                              122.0    Portuguese   \n",
       "3                              122.0    Portuguese   \n",
       "4                              100.0    Portuguese   \n",
       "...                              ...           ...   \n",
       "4419                           125.0    Portuguese   \n",
       "4420                           120.0       Russian   \n",
       "4421                           154.0    Portuguese   \n",
       "4422                           180.0    Portuguese   \n",
       "4423                           152.0  Cape Verdean   \n",
       "\n",
       "                                 Mother's qualification  \\\n",
       "0     Basic Education 3rd Cycle (9th/10th/11th Year)...   \n",
       "1     Secondary Education - 12th Year of Schooling o...   \n",
       "2     Basic education 1st cycle (4th/5th year) or eq...   \n",
       "3     Basic Education 2nd Cycle (6th/7th/8th Year) o...   \n",
       "4     Basic education 1st cycle (4th/5th year) or eq...   \n",
       "...                                                 ...   \n",
       "4419  Secondary Education - 12th Year of Schooling o...   \n",
       "4420  Secondary Education - 12th Year of Schooling o...   \n",
       "4421  Basic education 1st cycle (4th/5th year) or eq...   \n",
       "4422  Basic education 1st cycle (4th/5th year) or eq...   \n",
       "4423  Basic Education 2nd Cycle (6th/7th/8th Year) o...   \n",
       "\n",
       "                                 Father's qualification  \\\n",
       "0                        Other - 11th Year of Schooling   \n",
       "1                             Higher Education - Degree   \n",
       "2     Basic education 1st cycle (4th/5th year) or eq...   \n",
       "3     Basic education 1st cycle (4th/5th year) or eq...   \n",
       "4     Basic Education 2nd Cycle (6th/7th/8th Year) o...   \n",
       "...                                                 ...   \n",
       "4419  Secondary Education - 12th Year of Schooling o...   \n",
       "4420  Secondary Education - 12th Year of Schooling o...   \n",
       "4421  Basic education 1st cycle (4th/5th year) or eq...   \n",
       "4422  Basic education 1st cycle (4th/5th year) or eq...   \n",
       "4423  Basic education 1st cycle (4th/5th year) or eq...   \n",
       "\n",
       "                                    Mother's occupation  ...  \\\n",
       "0     Personal Services, Security and Safety Workers...  ...   \n",
       "1        Intermediate Level Technicians and Professions  ...   \n",
       "2                                     Unskilled Workers  ...   \n",
       "3     Personal Services, Security and Safety Workers...  ...   \n",
       "4                                     Unskilled Workers  ...   \n",
       "...                                                 ...  ...   \n",
       "4419  Personal Services, Security and Safety Workers...  ...   \n",
       "4420                                  Unskilled Workers  ...   \n",
       "4421                                  Unskilled Workers  ...   \n",
       "4422  Skilled Workers in Industry, Construction and ...  ...   \n",
       "4423  Personal Services, Security and Safety Workers...  ...   \n",
       "\n",
       "     Curricular units 2nd sem (enrolled)  \\\n",
       "0                                      0   \n",
       "1                                      6   \n",
       "2                                      6   \n",
       "3                                      6   \n",
       "4                                      6   \n",
       "...                                  ...   \n",
       "4419                                   6   \n",
       "4420                                   6   \n",
       "4421                                   8   \n",
       "4422                                   5   \n",
       "4423                                   6   \n",
       "\n",
       "      Curricular units 2nd sem (evaluations)  \\\n",
       "0                                          0   \n",
       "1                                          6   \n",
       "2                                          0   \n",
       "3                                         10   \n",
       "4                                          6   \n",
       "...                                      ...   \n",
       "4419                                       8   \n",
       "4420                                       6   \n",
       "4421                                       9   \n",
       "4422                                       6   \n",
       "4423                                       6   \n",
       "\n",
       "     Curricular units 2nd sem (approved) Curricular units 2nd sem (grade)  \\\n",
       "0                                      0                         0.000000   \n",
       "1                                      6                        13.666667   \n",
       "2                                      0                         0.000000   \n",
       "3                                      5                        12.400000   \n",
       "4                                      6                        13.000000   \n",
       "...                                  ...                              ...   \n",
       "4419                                   5                        12.666667   \n",
       "4420                                   2                        11.000000   \n",
       "4421                                   1                        13.500000   \n",
       "4422                                   5                        12.000000   \n",
       "4423                                   6                        13.000000   \n",
       "\n",
       "     Curricular units 2nd sem (without evaluations) Unemployment rate  \\\n",
       "0                                                 0              10.8   \n",
       "1                                                 0              13.9   \n",
       "2                                                 0              10.8   \n",
       "3                                                 0               9.4   \n",
       "4                                                 0              13.9   \n",
       "...                                             ...               ...   \n",
       "4419                                              0              15.5   \n",
       "4420                                              0              11.1   \n",
       "4421                                              0              13.9   \n",
       "4422                                              0               9.4   \n",
       "4423                                              0              12.7   \n",
       "\n",
       "     Inflation rate   GDP    Target Daytime/evening attendance  \n",
       "0               1.4  1.74   Dropout                    daytime  \n",
       "1              -0.3  0.79  Graduate                    daytime  \n",
       "2               1.4  1.74   Dropout                    daytime  \n",
       "3              -0.8 -3.12  Graduate                    daytime  \n",
       "4              -0.3  0.79  Graduate                    evening  \n",
       "...             ...   ...       ...                        ...  \n",
       "4419            2.8 -4.06  Graduate                    daytime  \n",
       "4420            0.6  2.02   Dropout                    daytime  \n",
       "4421           -0.3  0.79   Dropout                    daytime  \n",
       "4422           -0.8 -3.12  Graduate                    daytime  \n",
       "4423            3.7 -1.70  Graduate                    daytime  \n",
       "\n",
       "[4424 rows x 37 columns]"
      ]
     },
     "execution_count": 237,
     "metadata": {},
     "output_type": "execute_result"
    }
   ],
   "source": [
    "data = pd.read_csv(\"data/data_students.csv\")\n",
    "data"
   ]
  },
  {
   "cell_type": "code",
   "execution_count": 109,
   "id": "60fc5c15-74d3-4b0f-bc42-6205526985b6",
   "metadata": {},
   "outputs": [
    {
     "name": "stdout",
     "output_type": "stream",
     "text": [
      "<class 'pandas.core.frame.DataFrame'>\n",
      "RangeIndex: 4424 entries, 0 to 4423\n",
      "Data columns (total 37 columns):\n",
      " #   Column                                          Non-Null Count  Dtype  \n",
      "---  ------                                          --------------  -----  \n",
      " 0   Marital status                                  4424 non-null   object \n",
      " 1   Application mode                                4424 non-null   int64  \n",
      " 2   Application order                               4424 non-null   int64  \n",
      " 3   Course                                          4424 non-null   object \n",
      " 4   Previous qualification                          4424 non-null   object \n",
      " 5   Previous qualification (grade)                  4424 non-null   float64\n",
      " 6   Nacionality                                     4424 non-null   object \n",
      " 7   Mother's qualification                          4424 non-null   object \n",
      " 8   Father's qualification                          4424 non-null   object \n",
      " 9   Mother's occupation                             4424 non-null   object \n",
      " 10  Father's occupation                             4424 non-null   object \n",
      " 11  Admission grade                                 4424 non-null   float64\n",
      " 12  Displaced                                       4424 non-null   object \n",
      " 13  Educational special needs                       4424 non-null   object \n",
      " 14  Debtor                                          4424 non-null   object \n",
      " 15  Tuition fees up to date                         4424 non-null   object \n",
      " 16  Gender                                          4424 non-null   object \n",
      " 17  Scholarship holder                              4424 non-null   object \n",
      " 18  Age at enrollment                               4424 non-null   int64  \n",
      " 19  International                                   4424 non-null   object \n",
      " 20  Curricular units 1st sem (credited)             4424 non-null   int64  \n",
      " 21  Curricular units 1st sem (enrolled)             4424 non-null   int64  \n",
      " 22  Curricular units 1st sem (evaluations)          4424 non-null   int64  \n",
      " 23  Curricular units 1st sem (approved)             4424 non-null   int64  \n",
      " 24  Curricular units 1st sem (grade)                4424 non-null   float64\n",
      " 25  Curricular units 1st sem (without evaluations)  4424 non-null   int64  \n",
      " 26  Curricular units 2nd sem (credited)             4424 non-null   int64  \n",
      " 27  Curricular units 2nd sem (enrolled)             4424 non-null   int64  \n",
      " 28  Curricular units 2nd sem (evaluations)          4424 non-null   int64  \n",
      " 29  Curricular units 2nd sem (approved)             4424 non-null   int64  \n",
      " 30  Curricular units 2nd sem (grade)                4424 non-null   float64\n",
      " 31  Curricular units 2nd sem (without evaluations)  4424 non-null   int64  \n",
      " 32  Unemployment rate                               4424 non-null   float64\n",
      " 33  Inflation rate                                  4424 non-null   float64\n",
      " 34  GDP                                             4424 non-null   float64\n",
      " 35  Target                                          4424 non-null   object \n",
      " 36  Daytime/evening attendance                      4424 non-null   object \n",
      "dtypes: float64(7), int64(13), object(17)\n",
      "memory usage: 1.2+ MB\n"
     ]
    }
   ],
   "source": [
    "data.info()"
   ]
  },
  {
   "cell_type": "code",
   "execution_count": 239,
   "id": "b0edc1f1-e145-4f75-97b5-cfc040689c59",
   "metadata": {},
   "outputs": [],
   "source": [
    "data['grade']=(data[\"Curricular units 1st sem (grade)\"]+data[\"Curricular units 2nd sem (grade)\"])/2"
   ]
  },
  {
   "cell_type": "code",
   "execution_count": 113,
   "id": "11b42abc-c725-42b1-99c9-15b0b809fc4e",
   "metadata": {},
   "outputs": [
    {
     "data": {
      "text/plain": [
       "0        0.000000\n",
       "1       14.000000\n",
       "2        0.000000\n",
       "3       13.428571\n",
       "4       12.333333\n",
       "          ...    \n",
       "4419    13.600000\n",
       "4420    12.000000\n",
       "4421    14.912500\n",
       "4422    13.800000\n",
       "4423    11.666667\n",
       "Name: Curricular units 1st sem (grade), Length: 4424, dtype: float64"
      ]
     },
     "execution_count": 113,
     "metadata": {},
     "output_type": "execute_result"
    }
   ],
   "source": [
    "data[\"Curricular units 1st sem (grade)\"]"
   ]
  },
  {
   "cell_type": "code",
   "execution_count": 241,
   "id": "d298a824-9a06-4d21-bbf1-4da0b9d35da3",
   "metadata": {},
   "outputs": [],
   "source": [
    "# 경고창 warnings 제거 코드\n",
    "import warnings\n",
    "warnings.filterwarnings('ignore')"
   ]
  },
  {
   "cell_type": "code",
   "execution_count": 243,
   "id": "969bce3a-1c86-4950-8045-9550d4adbd76",
   "metadata": {},
   "outputs": [
    {
     "data": {
      "text/plain": [
       "array(['Unskilled Workers',\n",
       "       'Intermediate Level Technicians and Professions',\n",
       "       'Skilled Workers in Industry, Construction and Craftsmen',\n",
       "       'Armed Forces Professions',\n",
       "       'Personal Services, Security and Safety Workers and Sellers',\n",
       "       'Installation and Machine Operators and Assembly Workers',\n",
       "       'Administrative staff',\n",
       "       ' Representatives of the Legislative Power and Executive Bodies, Directors, Directors and Executive Managers',\n",
       "       'Specialists in Intellectual and Scientific Activities ',\n",
       "       'Specialists in information and communication technologies (ICT)',\n",
       "       'Farmers and Skilled Workers in Agriculture, Fisheries and Forestry',\n",
       "       'Student', 'Other Situation',\n",
       "       'Workers in food processing, woodworking, clothing and other industries and crafts',\n",
       "       'Specialists in the physical sciences, mathematics, engineering and related techniques',\n",
       "       '(blank)', 'Other administrative support staff',\n",
       "       'Street vendors (except food) and street service providers',\n",
       "       'Unskilled workers in agriculture, animal production, fisheries and forestry',\n",
       "       'Market-oriented farmers and skilled agricultural and animal production workers',\n",
       "       'Unskilled workers in extractive industry, construction, manufacturing and transport',\n",
       "       'personal service workers', 'assembly workers.',\n",
       "       'Technicians and professionals, of intermediate level of health',\n",
       "       'Intermediate level science and engineering technicians and professions',\n",
       "       'Meal preparation assistants',\n",
       "       'Farmers, livestock keepers, fishermen, hunters and gatherers, subsistence',\n",
       "       'Information and communication technology technicians',\n",
       "       'Data, accounting, statistical, financial services and registry-related operators',\n",
       "       'Skilled construction workers and the like, except electricians',\n",
       "       'Other Armed Forces personnel',\n",
       "       'Skilled workers in metallurgy, metalworking and similar',\n",
       "       'sellers', 'Vehicle drivers and mobile equipment operators',\n",
       "       'Health professionals', 'Armed Forces Sergeants',\n",
       "       'Fixed plant and machine operators',\n",
       "       'Intermediate level technicians from legal, social, sports, cultural and similar services',\n",
       "       'teachers', 'Directors of administrative and commercial services',\n",
       "       'Personal care workers and the like',\n",
       "       'Skilled workers in electricity and electronics',\n",
       "       'Office workers, secretaries in general and data processing operators',\n",
       "       'Hotel, catering, trade and other services directors',\n",
       "       'Armed Forces Officers',\n",
       "       'Protection and security services personnel'], dtype=object)"
      ]
     },
     "execution_count": 243,
     "metadata": {},
     "output_type": "execute_result"
    }
   ],
   "source": [
    "data[\"Father's occupation\"].unique()"
   ]
  },
  {
   "cell_type": "code",
   "execution_count": 245,
   "id": "0ed5b75a-dade-468e-9106-4e0c743d3563",
   "metadata": {},
   "outputs": [
    {
     "data": {
      "text/plain": [
       "0       1\n",
       "1       1\n",
       "2       1\n",
       "3       1\n",
       "4       0\n",
       "       ..\n",
       "4419    1\n",
       "4420    1\n",
       "4421    1\n",
       "4422    1\n",
       "4423    1\n",
       "Name: Daytime/evening attendance, Length: 4424, dtype: int32"
      ]
     },
     "execution_count": 245,
     "metadata": {},
     "output_type": "execute_result"
    }
   ],
   "source": [
    "import numpy as np\n",
    "data['Daytime/evening attendance']=np.where(data['Daytime/evening attendance']==\"daytime\",1,0)\n",
    "data['Daytime/evening attendance']"
   ]
  },
  {
   "cell_type": "code",
   "execution_count": 247,
   "id": "40246f40-1b5c-474e-8f47-a47cb59c242c",
   "metadata": {},
   "outputs": [
    {
     "data": {
      "text/plain": [
       "Daytime/evening attendance\n",
       "0     9.617258\n",
       "1    10.535797\n",
       "Name: grade, dtype: float64"
      ]
     },
     "execution_count": 247,
     "metadata": {},
     "output_type": "execute_result"
    }
   ],
   "source": [
    "data.groupby('Daytime/evening attendance')['grade'].mean()"
   ]
  },
  {
   "cell_type": "code",
   "execution_count": 249,
   "id": "ad96610b-bc09-4943-9d71-842d63c41f48",
   "metadata": {},
   "outputs": [
    {
     "data": {
      "text/plain": [
       "Daytime/evening attendance\n",
       "0    0.428571\n",
       "1    0.308044\n",
       "Name: Target, dtype: float64"
      ]
     },
     "execution_count": 249,
     "metadata": {},
     "output_type": "execute_result"
    }
   ],
   "source": [
    "data['Target']=np.where(data['Target']=='Dropout',1,0)\n",
    "data.groupby('Daytime/evening attendance')['Target'].mean()"
   ]
  },
  {
   "cell_type": "code",
   "execution_count": 251,
   "id": "17b08dc0-8ecd-4df0-97f4-b2102f1e620e",
   "metadata": {},
   "outputs": [
    {
     "data": {
      "text/plain": [
       "Admission grade\n",
       "95.0      7.136050\n",
       "95.1      0.000000\n",
       "95.5      6.500000\n",
       "95.8      0.000000\n",
       "96.0      5.144099\n",
       "           ...    \n",
       "180.4    12.733333\n",
       "183.5     6.000000\n",
       "184.0    16.793889\n",
       "184.4    14.666667\n",
       "190.0    13.200820\n",
       "Name: grade, Length: 620, dtype: float64"
      ]
     },
     "execution_count": 251,
     "metadata": {},
     "output_type": "execute_result"
    }
   ],
   "source": [
    "data.groupby(\"Admission grade\")['grade'].mean()"
   ]
  },
  {
   "cell_type": "code",
   "execution_count": 127,
   "id": "44833c1e-651f-416d-bcfe-25778437139e",
   "metadata": {},
   "outputs": [
    {
     "data": {
      "text/plain": [
       "Course\n",
       "Advertising and Marketing Management    11.007110\n",
       "Agronomy                                 9.926741\n",
       "Animation and Multimedia Design          2.076352\n",
       "Basic Education                         11.018245\n",
       "Biofuel Production Technologies          9.317172\n",
       "Communication Design                    11.638760\n",
       "Equinculture                             9.884412\n",
       "Informatics Engineering                  8.676531\n",
       "Journalism and Communication            11.365190\n",
       "Management                               9.912321\n",
       "Management (evening attendance)          9.163434\n",
       "Nursing                                 12.409757\n",
       "Oral Hygiene                            10.050185\n",
       "Social Service                          11.176406\n",
       "Social Service (evening attendance)     10.182955\n",
       "Tourism                                 10.194371\n",
       "Veterinary Nursing                      11.510099\n",
       "Name: grade, dtype: float64"
      ]
     },
     "execution_count": 127,
     "metadata": {},
     "output_type": "execute_result"
    }
   ],
   "source": [
    "data.groupby(\"Course\")['grade'].mean()"
   ]
  },
  {
   "cell_type": "code",
   "execution_count": 129,
   "id": "389aeef3-5986-44a7-9a66-03186b2d1cc8",
   "metadata": {},
   "outputs": [
    {
     "data": {
      "text/plain": [
       "<pandas.core.groupby.generic.SeriesGroupBy object at 0x000001F7C16689D0>"
      ]
     },
     "execution_count": 129,
     "metadata": {},
     "output_type": "execute_result"
    }
   ],
   "source": [
    "data.groupby('Target')['Course']"
   ]
  },
  {
   "cell_type": "code",
   "execution_count": 137,
   "id": "39848916-5ab6-4ef4-b102-53e22b6bba2d",
   "metadata": {},
   "outputs": [
    {
     "data": {
      "text/plain": [
       "array(['Basic Education 3rd Cycle (9th/10th/11th Year) or Equiv.',\n",
       "       'Secondary Education - 12th Year of Schooling or Eq.',\n",
       "       'Basic education 1st cycle (4th/5th year) or equiv.',\n",
       "       'Basic Education 2nd Cycle (6th/7th/8th Year) or Equiv.',\n",
       "       'Higher Education - Degree', \"Higher Education - Master's\",\n",
       "       'Professional higher technical course',\n",
       "       \"Higher Education - Bachelor's Degree\", 'Unknown',\n",
       "       'Other - 11th Year of Schooling',\n",
       "       'Higher education - degree (1st cycle)',\n",
       "       '12th Year of Schooling - Not Completed',\n",
       "       'Higher Education - Doctorate',\n",
       "       'Technological specialization course', '7th Year (Old)',\n",
       "       'Specialized higher studies course', '8th year of schooling',\n",
       "       '10th Year of Schooling', \"Can't read or write\",\n",
       "       'Can read without having a 4th year of schooling',\n",
       "       'Frequency of Higher Education',\n",
       "       '11th Year of Schooling - Not Completed',\n",
       "       '9th Year of Schooling - Not Completed',\n",
       "       'Higher Education - Master (2nd cycle)', 'General commerce course',\n",
       "       'Technical-professional course',\n",
       "       '2nd cycle of the general high school course',\n",
       "       '7th year of schooling',\n",
       "       'Higher Education - Doctorate (3rd cycle)'], dtype=object)"
      ]
     },
     "execution_count": 137,
     "metadata": {},
     "output_type": "execute_result"
    }
   ],
   "source": [
    "data[\"Mother's qualification\"].unique()"
   ]
  },
  {
   "cell_type": "code",
   "execution_count": 183,
   "id": "e72cc0e9-5736-40ee-8fba-3cad2a7c0212",
   "metadata": {},
   "outputs": [
    {
     "data": {
      "text/html": [
       "<div>\n",
       "<style scoped>\n",
       "    .dataframe tbody tr th:only-of-type {\n",
       "        vertical-align: middle;\n",
       "    }\n",
       "\n",
       "    .dataframe tbody tr th {\n",
       "        vertical-align: top;\n",
       "    }\n",
       "\n",
       "    .dataframe thead th {\n",
       "        text-align: right;\n",
       "    }\n",
       "</style>\n",
       "<table border=\"1\" class=\"dataframe\">\n",
       "  <thead>\n",
       "    <tr style=\"text-align: right;\">\n",
       "      <th></th>\n",
       "      <th>Target</th>\n",
       "      <th>grade</th>\n",
       "      <th>Scholarship holder</th>\n",
       "    </tr>\n",
       "  </thead>\n",
       "  <tbody>\n",
       "    <tr>\n",
       "      <th>Target</th>\n",
       "      <td>1.000000</td>\n",
       "      <td>-0.550759</td>\n",
       "      <td>-0.245354</td>\n",
       "    </tr>\n",
       "    <tr>\n",
       "      <th>grade</th>\n",
       "      <td>-0.550759</td>\n",
       "      <td>1.000000</td>\n",
       "      <td>0.182591</td>\n",
       "    </tr>\n",
       "    <tr>\n",
       "      <th>Scholarship holder</th>\n",
       "      <td>-0.245354</td>\n",
       "      <td>0.182591</td>\n",
       "      <td>1.000000</td>\n",
       "    </tr>\n",
       "  </tbody>\n",
       "</table>\n",
       "</div>"
      ],
      "text/plain": [
       "                      Target     grade  Scholarship holder\n",
       "Target              1.000000 -0.550759           -0.245354\n",
       "grade              -0.550759  1.000000            0.182591\n",
       "Scholarship holder -0.245354  0.182591            1.000000"
      ]
     },
     "execution_count": 183,
     "metadata": {},
     "output_type": "execute_result"
    }
   ],
   "source": [
    "data[[\"Target\", 'grade','Scholarship holder']].corr()"
   ]
  },
  {
   "cell_type": "code",
   "execution_count": 253,
   "id": "2eed1df6-fc91-42d3-b78f-263857767045",
   "metadata": {},
   "outputs": [
    {
     "data": {
      "text/plain": [
       "0       1\n",
       "1       1\n",
       "2       1\n",
       "3       1\n",
       "4       1\n",
       "       ..\n",
       "4419    1\n",
       "4420    0\n",
       "4421    1\n",
       "4422    1\n",
       "4423    0\n",
       "Name: International, Length: 4424, dtype: int32"
      ]
     },
     "execution_count": 253,
     "metadata": {},
     "output_type": "execute_result"
    }
   ],
   "source": [
    "data['International']=np.where(data['International']=='yes',1,0)\n",
    "data['International']"
   ]
  },
  {
   "cell_type": "code",
   "execution_count": 255,
   "id": "10a5551a-f136-4cf6-98fe-2c5f0033b8d6",
   "metadata": {},
   "outputs": [
    {
     "data": {
      "text/plain": [
       "0       0\n",
       "1       0\n",
       "2       0\n",
       "3       0\n",
       "4       0\n",
       "       ..\n",
       "4419    0\n",
       "4420    1\n",
       "4421    0\n",
       "4422    0\n",
       "4423    0\n",
       "Name: Debtor, Length: 4424, dtype: int32"
      ]
     },
     "execution_count": 255,
     "metadata": {},
     "output_type": "execute_result"
    }
   ],
   "source": [
    "data['Debtor']=np.where(data['Debtor']=='yes',1,0)\n",
    "data['Debtor']"
   ]
  },
  {
   "cell_type": "code",
   "execution_count": 257,
   "id": "a437cf6e-b306-472e-bc78-0abd778753ba",
   "metadata": {},
   "outputs": [
    {
     "data": {
      "text/plain": [
       "0       0\n",
       "1       0\n",
       "2       0\n",
       "3       0\n",
       "4       0\n",
       "       ..\n",
       "4419    0\n",
       "4420    0\n",
       "4421    1\n",
       "4422    1\n",
       "4423    0\n",
       "Name: Scholarship holder, Length: 4424, dtype: int32"
      ]
     },
     "execution_count": 257,
     "metadata": {},
     "output_type": "execute_result"
    }
   ],
   "source": [
    "data['Scholarship holder']=np.where(data['Scholarship holder']=='yes',1,0)\n",
    "data['Scholarship holder']"
   ]
  },
  {
   "cell_type": "code",
   "execution_count": 265,
   "id": "459e663a-950b-42ee-a921-03d4f17006dc",
   "metadata": {},
   "outputs": [
    {
     "data": {
      "text/plain": [
       "Admission grade\n",
       "95.0     0.636364\n",
       "95.1     1.000000\n",
       "95.5     0.500000\n",
       "95.8     1.000000\n",
       "96.0     0.714286\n",
       "           ...   \n",
       "180.4    1.000000\n",
       "183.5    1.000000\n",
       "184.0    0.000000\n",
       "184.4    0.000000\n",
       "190.0    0.333333\n",
       "Name: Target, Length: 620, dtype: float64"
      ]
     },
     "execution_count": 265,
     "metadata": {},
     "output_type": "execute_result"
    }
   ],
   "source": [
    "data.groupby(\"Admission grade\")['Target'].mean()"
   ]
  },
  {
   "cell_type": "code",
   "execution_count": 261,
   "id": "cd10846b-1968-4ce5-b068-99dad87f8542",
   "metadata": {
    "scrolled": true
   },
   "outputs": [
    {
     "data": {
      "text/plain": [
       "Previous qualification\n",
       "10th year of schooling                                      1.000000\n",
       "10th year of schooling - not completed                      0.500000\n",
       "11th year of schooling - not completed                      0.750000\n",
       "12th year of schooling - not completed                      1.000000\n",
       "Basic education 2nd cycle (6th/7th/8th year) or equiv.      0.428571\n",
       "Basic education 3rd cycle (9th/10th/11th year) or equiv.    0.641975\n",
       "Frequency of higher education                               0.437500\n",
       "Higher education - bachelor's degree                        0.695652\n",
       "Higher education - degree                                   0.595238\n",
       "Higher education - degree (1st cycle)                       0.350000\n",
       "Higher education - doctorate                                1.000000\n",
       "Higher education - master (2nd cycle)                       0.333333\n",
       "Higher education - master's                                 0.500000\n",
       "Other - 11th year of schooling                              0.577778\n",
       "Professional higher technical course                        0.166667\n",
       "Secondary education                                         0.290019\n",
       "Technological specialization course                         0.315068\n",
       "Name: Target, dtype: float64"
      ]
     },
     "execution_count": 261,
     "metadata": {},
     "output_type": "execute_result"
    }
   ],
   "source": [
    "data.groupby(\"Previous qualification\")['Target'].mean()"
   ]
  },
  {
   "cell_type": "code",
   "execution_count": 277,
   "id": "ea81ece7-f8f2-4eb0-9936-22e5b4bae453",
   "metadata": {},
   "outputs": [
    {
     "data": {
      "text/plain": [
       "Tuition fees up to date\n",
       "no     0.865530\n",
       "yes    0.247433\n",
       "Name: Target, dtype: float64"
      ]
     },
     "execution_count": 277,
     "metadata": {},
     "output_type": "execute_result"
    }
   ],
   "source": [
    "data.groupby(\"Tuition fees up to date\")['Target'].mean()"
   ]
  },
  {
   "cell_type": "code",
   "execution_count": 299,
   "id": "8ff00b18-d637-48d1-9d1c-abaa9939bc68",
   "metadata": {
    "scrolled": true
   },
   "outputs": [
    {
     "data": {
      "text/plain": [
       "Nacionality\n",
       "Portuguese      505\n",
       "Brazilian         9\n",
       "Santomean         4\n",
       "Cape Verdean      4\n",
       "Spanish           2\n",
       "Guinean           2\n",
       "Lithuanian        1\n",
       "Russian           1\n",
       "Name: count, dtype: int64"
      ]
     },
     "execution_count": 299,
     "metadata": {},
     "output_type": "execute_result"
    }
   ],
   "source": [
    "data[data[\"Tuition fees up to date\"]=='no']['Nacionality'].value_counts()"
   ]
  },
  {
   "cell_type": "code",
   "execution_count": 263,
   "id": "10225bf6-986e-4eba-b6cb-3261d7638135",
   "metadata": {},
   "outputs": [
    {
     "data": {
      "text/plain": [
       "Previous qualification\n",
       "Secondary education                                         3717\n",
       "Technological specialization course                          219\n",
       "Basic education 3rd cycle (9th/10th/11th year) or equiv.     162\n",
       "Higher education - degree                                    126\n",
       "Other - 11th year of schooling                                45\n",
       "Higher education - degree (1st cycle)                         40\n",
       "Professional higher technical course                          36\n",
       "Higher education - bachelor's degree                          23\n",
       "Frequency of higher education                                 16\n",
       "12th year of schooling - not completed                        11\n",
       "Higher education - master's                                    8\n",
       "Basic education 2nd cycle (6th/7th/8th year) or equiv.         7\n",
       "Higher education - master (2nd cycle)                          6\n",
       "11th year of schooling - not completed                         4\n",
       "10th year of schooling - not completed                         2\n",
       "Higher education - doctorate                                   1\n",
       "10th year of schooling                                         1\n",
       "Name: count, dtype: int64"
      ]
     },
     "execution_count": 263,
     "metadata": {},
     "output_type": "execute_result"
    }
   ],
   "source": [
    "data['Previous qualification'].value_counts()"
   ]
  },
  {
   "cell_type": "code",
   "execution_count": 327,
   "id": "6a9f198c-523d-459f-aa33-06fca7056bf8",
   "metadata": {},
   "outputs": [
    {
     "data": {
      "image/png": "[encoded data removed]",
      "text/plain": [
       "<Figure size 640x480 with 1 Axes>"
      ]
     },
     "metadata": {},
     "output_type": "display_data"
    }
   ],
   "source": [
    "import seaborn as sns\n",
    "import matplotlib.pyplot as plt\n",
    "\n",
    "sns.boxplot(x='Target', y='Nacionality', data=data)\n",
    "plt.show()"
   ]
  },
  {
   "cell_type": "code",
   "execution_count": 323,
   "id": "da48cc0d-1f9b-4e3d-8191-0d1358911bb4",
   "metadata": {
    "scrolled": true
   },
   "outputs": [
    {
     "data": {
      "image/png": "[encoded data removed]",
      "text/plain": [
       "<Figure size 640x480 with 2 Axes>"
      ]
     },
     "metadata": {},
     "output_type": "display_data"
    }
   ],
   "source": [
    "# 학비 납부 상태와 타겟 간의 히트맵\n",
    "heatmap_data = data[['Inflation rate', 'Unemployment rate', 'Target']].corr()\n",
    "\n",
    "sns.heatmap(heatmap_data, annot=True)\n",
    "plt.title('Heatmap of Tuition Fees Up-to-date vs Target')\n",
    "plt.ylabel('Tuition Fees Up-to-date')\n",
    "plt.xlabel('Target')\n",
    "plt.show()"
   ]
  },
  {
   "cell_type": "code",
   "execution_count": 311,
   "id": "e063bcc6-2cf1-48ec-873d-cee9d34318fc",
   "metadata": {},
   "outputs": [
    {
     "ename": "TypeError",
     "evalue": "heatmap() takes 1 positional argument but 3 positional arguments (and 1 keyword-only argument) were given",
     "output_type": "error",
     "traceback": [
      "\u001b[1;31m---------------------------------------------------------------------------\u001b[0m",
      "\u001b[1;31mTypeError\u001b[0m                                 Traceback (most recent call last)",
      "Cell \u001b[1;32mIn[311], line 2\u001b[0m\n\u001b[0;32m      1\u001b[0m \u001b[38;5;66;03m# 성적과 타겟 간의 히트맵\u001b[39;00m\n\u001b[1;32m----> 2\u001b[0m sns\u001b[38;5;241m.\u001b[39mheatmap(\u001b[38;5;124m'\u001b[39m\u001b[38;5;124mgrade\u001b[39m\u001b[38;5;124m'\u001b[39m,\u001b[38;5;124m'\u001b[39m\u001b[38;5;124mTarget\u001b[39m\u001b[38;5;124m'\u001b[39m, data, cmap\u001b[38;5;241m=\u001b[39m\u001b[38;5;124m'\u001b[39m\u001b[38;5;124mcoolwarm\u001b[39m\u001b[38;5;124m'\u001b[39m)\n\u001b[0;32m      3\u001b[0m plt\u001b[38;5;241m.\u001b[39mtitle(\u001b[38;5;124m'\u001b[39m\u001b[38;5;124mGrade vs Target\u001b[39m\u001b[38;5;124m'\u001b[39m)\n\u001b[0;32m      4\u001b[0m plt\u001b[38;5;241m.\u001b[39mylabel(\u001b[38;5;124m'\u001b[39m\u001b[38;5;124mgrade\u001b[39m\u001b[38;5;124m'\u001b[39m)\n",
      "\u001b[1;31mTypeError\u001b[0m: heatmap() takes 1 positional argument but 3 positional arguments (and 1 keyword-only argument) were given"
     ]
    }
   ],
   "source": [
    "# 성적과 타겟 간의 히트맵\n",
    "sns.heatmap('grade','Target', data, cmap='coolwarm')\n",
    "plt.title('Grade vs Target')\n",
    "plt.ylabel('grade')\n",
    "plt.xlabel('Target')\n",
    "plt.show()"
   ]
  },
  {
   "cell_type": "code",
   "execution_count": null,
   "id": "c691df6d-f8e9-4767-98e3-7de38ff4dcec",
   "metadata": {},
   "outputs": [],
   "source": []
  },
  {
   "cell_type": "code",
   "execution_count": null,
   "id": "9abb92db-e969-43a3-86b7-07a660ff58a9",
   "metadata": {},
   "outputs": [],
   "source": []
  }
 ],
 "metadata": {
  "kernelspec": {
   "display_name": "Python 3 (ipykernel)",
   "language": "python",
   "name": "python3"
  },
  "language_info": {
   "codemirror_mode": {
    "name": "ipython",
    "version": 3
   },
   "file_extension": ".py",
   "mimetype": "text/x-python",
   "name": "python",
   "nbconvert_exporter": "python",
   "pygments_lexer": "ipython3",
   "version": "3.11.7"
  }
 },
 "nbformat": 4,
 "nbformat_minor": 5
}

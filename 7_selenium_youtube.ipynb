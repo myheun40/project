{
 "cells": [
  {
   "cell_type": "code",
   "execution_count": 34,
   "id": "c3198514-a71a-469f-948c-588a258ce5bc",
   "metadata": {},
   "outputs": [],
   "source": [
    "from selenium.webdriver.chrome.service import Service\n",
    "from webdriver_manager.chrome import ChromeDriverManager\n",
    "from selenium.webdriver.chrome.options import Options\n",
    "\n",
    "from selenium import webdriver as wb\n",
    "from selenium.webdriver.common.keys import Keys\n",
    "from selenium.webdriver.common.by import By\n",
    "import os\n",
    "\n",
    "import pandas as pd\n",
    "import time\n",
    "from tqdm import tqdm as tq\n",
    "from bs4 import BeautifulSoup as bs\n",
    "\n",
    "options = Options()\n",
    "options.add_argument(\"disable-blink-features=AutomationControlled\")  # 자동화 탐지 방지\n",
    "options.add_experimental_option(\"excludeSwitches\", [\"enable-automation\"])  # 자동화 표시 제거\n",
    "options.add_experimental_option('useAutomationExtension', False)  # 자동화 확장 기능 사용 안 함\n",
    "\n",
    "driver_path = ChromeDriverManager().install()\n",
    "correct_driver_path = os.path.join(os.path.dirname(driver_path), \"chromedriver.exe\")\n",
    "driver = wb.Chrome(service=Service(executable_path=correct_driver_path), options=options)"
   ]
  },
  {
   "cell_type": "code",
   "execution_count": 36,
   "id": "e5b8b589-f153-4905-ab8a-f57826535674",
   "metadata": {},
   "outputs": [],
   "source": [
    "keyword='챗봇'\n",
    "url=f\"https://www.youtube.com/results?search_query={keyword}\"\n",
    "driver.get(url)"
   ]
  },
  {
   "cell_type": "markdown",
   "id": "8b11c927-4770-480f-ab94-d6159b4b8ad8",
   "metadata": {},
   "source": [
    "##### Naming Rule\n",
    "keyword: smart media\n",
    "1. 파스칼 표기법 -> SmartMedia\n",
    "2. 카멜표기법 -> smartMedia\n",
    "3. 스네이크표기법 ->smart_media\n",
    "4. 케밥 표기법 -> smart-media"
   ]
  },
  {
   "cell_type": "code",
   "execution_count": 38,
   "id": "e47b765b-2c07-4745-82c6-83b97b24279a",
   "metadata": {},
   "outputs": [],
   "source": [
    "# 유튜브같은 대형 플랫폼은 본인들이 만든 태그를 활용해서 웹페이지를 구현하기도 함\n",
    "# 심지어, ID 선택자도 Class처럼 다중 부여해서 사용하는 경우도 있음\n",
    "video_url = driver.find_elements(By.CSS_SELECTOR,\"a#video-title\")\n",
    "\n",
    "title_list=[]\n",
    "url_list=[]\n",
    "for url in video_url:\n",
    "    title_list.append(url.text)\n",
    "    url_list.append(url.get_attribute(\"href\"))\n",
    "\n",
    "dict={\n",
    "    \"제목\": title_list,\n",
    "    \"URL\": url_list\n",
    "}\n",
    "youtube = pd.DataFrame(dict)\n",
    "youtube.to_csv(f\"youtube_{keyword}.csv\", encoding=\"UTF-8\")\n",
    "\n",
    "driver.quit()"
   ]
  },
  {
   "cell_type": "code",
   "execution_count": null,
   "id": "a06f1067-a326-42c6-9621-f90b4536c6df",
   "metadata": {},
   "outputs": [],
   "source": []
  },
  {
   "cell_type": "code",
   "execution_count": null,
   "id": "30b7b305-db63-4eb0-beda-e8275f0b7130",
   "metadata": {},
   "outputs": [],
   "source": []
  },
  {
   "cell_type": "code",
   "execution_count": null,
   "id": "95e3f34c-84a6-4805-80b6-9ae3dc2275c9",
   "metadata": {},
   "outputs": [],
   "source": []
  }
 ],
 "metadata": {
  "kernelspec": {
   "display_name": "Python 3 (ipykernel)",
   "language": "python",
   "name": "python3"
  },
  "language_info": {
   "codemirror_mode": {
    "name": "ipython",
    "version": 3
   },
   "file_extension": ".py",
   "mimetype": "text/x-python",
   "name": "python",
   "nbconvert_exporter": "python",
   "pygments_lexer": "ipython3",
   "version": "3.11.7"
  }
 },
 "nbformat": 4,
 "nbformat_minor": 5
}
